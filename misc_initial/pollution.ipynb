{
 "cells": [
  {
   "cell_type": "code",
   "execution_count": 3,
   "metadata": {},
   "outputs": [
    {
     "name": "stderr",
     "output_type": "stream",
     "text": [
      "/home/rishotics/anaconda3/envs/rl3.6/lib/python3.6/site-packages/h5py/__init__.py:34: FutureWarning: Conversion of the second argument of issubdtype from `float` to `np.floating` is deprecated. In future, it will be treated as `np.float64 == np.dtype(float).type`.\n",
      "  from ._conv import register_converters as _register_converters\n",
      "Using TensorFlow backend.\n"
     ]
    },
    {
     "name": "stdout",
     "output_type": "stream",
     "text": [
      "          From Date    PM10      NO     NO2    WS    CO Benzene     NOx  \\\n",
      "0  01-01-2019 00:00  752.78  179.68  111.66   0.3  3.52   20.45   251.7   \n",
      "1  01-01-2019 08:00  408.19  135.13  148.64  0.53  4.57    9.75  189.21   \n",
      "2  01-01-2019 16:00  475.85  123.27  177.02  0.31  5.66   17.79  176.38   \n",
      "3  02-01-2019 00:00  771.27  357.61  106.05   0.3  5.96    20.9  350.56   \n",
      "4  02-01-2019 08:00  495.06    75.6  125.28  1.13  1.56   10.11  128.26   \n",
      "\n",
      "   Ozone    SO2     NH3 Toluene   PM2.5  \n",
      "0  22.86  10.79   93.35   58.33  492.03  \n",
      "1  22.68  13.86   104.4   31.63  266.16  \n",
      "2  26.04  21.74   89.24   89.25   382.5  \n",
      "3  61.84   5.99  109.64   99.34  545.28  \n",
      "4  34.37  19.54  108.53   57.46  344.22  \n"
     ]
    }
   ],
   "source": [
    "                                                                                                                                                                                                                                                                        from math import sqrt\n",
    "import numpy as np\n",
    "from numpy import concatenate\n",
    "from matplotlib import pyplot\n",
    "from pandas import read_csv\n",
    "from pandas import DataFrame\n",
    "from pandas import concat\n",
    "from sklearn.preprocessing import MinMaxScaler\n",
    "from sklearn.preprocessing import LabelEncoder\n",
    "from sklearn.metrics import mean_squared_error\n",
    "from keras.models import Sequential\n",
    "from keras.layers import Dense\n",
    "from keras.layers import LSTM\n",
    "from pandas import read_csv\n",
    "from datetime import datetime\n",
    "from keras.layers import Bidirectional\n",
    "import datetime\n",
    "import matplotlib.pyplot as plt\n",
    "import pandas as pd\n",
    "\n",
    "# load data\n",
    "def parse(x):\n",
    "\treturn datetime.strptime(x, '%Y %m %d %H')\n",
    "dfav = read_csv('data/appcpc/Jan10-Jul20/anand_vihar_jan19_jul20_8h.csv')\n",
    "dfav.columns = ['From Date','PM10','NO','NO2','WS','CO','Benzene','NOx','Ozone','SO2','NH3','Toluene','PM2.5']\n",
    "# dfav.index.name = 'From Date'\n",
    "dfav['PM2.5'].fillna(0, inplace=True)\n",
    "\n",
    "dfbw= read_csv('data/appcpc/Jan10-Jul20/Bawana_jan19-jul20_8h.csv')\n",
    "dfbw.columns = ['From Date','PM10','NO','NO2','WS','CO','Benzene','NOx','Ozone','SO2','NH3','Toluene','PM2.5']\n",
    "# dfbw.index.name = 'From Date'\n",
    "dfbw['PM2.5'].fillna(0, inplace=True)\n",
    "\n",
    "dfvv = read_csv('data/appcpc/Jan10-Jul20/vivek_vihar_jan19_jul20_8h.csv')\n",
    "dfvv.columns = ['From Date','PM10','NO','NO2','WS','CO','Benzene','NOx','Ozone','SO2','NH3','Toluene','PM2.5']\n",
    "# dfvv.index.name = 'From Date'\n",
    "dfvv['PM2.5'].fillna(0, inplace=True)\n",
    "\n",
    "\n",
    "dfwz = read_csv('data/appcpc/Jan10-Jul20/Wazirpur_8h_jan19-july20.csv')\n",
    "dfwz.columns = ['From Date','PM10','NO','NO2','WS','CO','Benzene','NOx','Ozone','SO2','NH3','Toluene','PM2.5']\n",
    "# dfwz.index.name = 'From Date'\n",
    "dfwz['PM2.5'].fillna(0, inplace=True)\n",
    "\n",
    "\n",
    "dfdt = read_csv('data/appcpc/Jan10-Jul20/DTU_8h_jan19-jul20.csv')\n",
    "dfdt.columns = ['From Date','PM10','NO','NO2','WS','CO','Benzene','NOx','Ozone','SO2','NH3','Toluene','PM2.5']\n",
    "# dfdt.index.name = 'From Date'\n",
    "dfdt['PM2.5'].fillna(0, inplace=True)\n",
    "\n",
    "frames=[dfav,dfbw,dfvv,dfwz,dfdt]\n",
    "df=pd.concat(frames)\n",
    "\n",
    "# drop the first 24 hours\n",
    "# dataset = dataset[24:]\n",
    "# summarize first 5 rows\n",
    "print(df.head(5))\n",
    "\n",
    "\n",
    "# save to file\n",
    "\n",
    "\n",
    "# print(dfav[])\n",
    "\n",
    "df = df.replace(to_replace='None', value=np.nan).dropna()\n",
    "\n",
    "\n",
    "\n"
   ]
  },
  {
   "cell_type": "code",
   "execution_count": 4,
   "metadata": {},
   "outputs": [],
   "source": [
    "# print(df['PM10'])\n",
    "df = df.replace(to_replace='None', value=np.nan).dropna()\n",
    "df['Date'] = pd.to_datetime(df['From Date']) \n",
    "df['year'] = df['Date'].dt.year \n",
    "df['month'] = df['Date'].dt.month \n",
    "df['day'] = df['Date'].dt.day \n",
    "df['hour'] = df['Date'].dt.hour \n",
    "df['minute'] = df['Date'].dt.minute\n"
   ]
  },
  {
   "cell_type": "code",
   "execution_count": 5,
   "metadata": {},
   "outputs": [],
   "source": [
    "df_train = df[(df[\"year\"] <2020) | (df['month']<=2)]\n",
    "\n",
    "df_test=df[(df[\"year\"] >2019) & (df['month']<8) & (df['month']>2)]\n",
    "df.to_csv('pollution.csv')\n",
    "df_train.to_csv('train_pollution.csv')\n",
    "df_test.to_csv('test_pollution.csv')"
   ]
  },
  {
   "cell_type": "code",
   "execution_count": 6,
   "metadata": {},
   "outputs": [
    {
     "name": "stdout",
     "output_type": "stream",
     "text": [
      "(3369, 12) (870, 12)\n"
     ]
    }
   ],
   "source": [
    "dataset_train = read_csv('train_pollution.csv', header=0, index_col=0)\n",
    "dataset_test = read_csv('test_pollution.csv', header=0, index_col=0)\n",
    "values_train = dataset_train.values\n",
    "values_test = dataset_test.values\n",
    "values_train=values_train[:,1:-6]\n",
    "values_test=values_test[:,1:-6]\n",
    "print(values_train.shape,values_test.shape)"
   ]
  },
  {
   "cell_type": "code",
   "execution_count": 10,
   "metadata": {},
   "outputs": [],
   "source": []
  },
  {
   "cell_type": "code",
   "execution_count": 2,
   "metadata": {},
   "outputs": [
    {
     "name": "stdout",
     "output_type": "stream",
     "text": [
      "(367, 17)\n"
     ]
    },
    {
     "data": {
      "image/png": "[encoded data removed]",
      "text/plain": [
       "<Figure size 432x288 with 17 Axes>"
      ]
     },
     "metadata": {
      "needs_background": "light"
     },
     "output_type": "display_data"
    }
   ],
   "source": [
    "# from pandas import read_csv\n",
    "# from matplotlib import pyplot\n",
    "# # load dataset\n",
    "# dataset = read_csv('pollution.csv', header=0, index_col=0)\n",
    "# values = dataset.values\n",
    "\n",
    "# print(values.shape)\n",
    "# # specify columns to plot\n",
    "# groups=[]\n",
    "# for i in range(values.shape[1]):\n",
    "#     groups.append(i)\n",
    "# # groups = [0, 1, 2, 3, 5, 6, 7,8,9,10,11,12,13,14,]\n",
    "# # print(groups)\n",
    "# i = 1\n",
    "# # plot each column\n",
    "# pyplot.figure()\n",
    "# for group in groups:\n",
    "#     pyplot.subplot(len(groups), 1, i)\n",
    "#     pyplot.plot(values[:, group])\n",
    "# #     print(group)\n",
    "#     pyplot.title(dataset.columns[group], y=1, loc='right')\n",
    "#     i += 1\n",
    "# # pyplot.plot(values[:,0])\n",
    "# # #     print(group)\n",
    "# # pyplot.title(dataset.columns[2], y=0.5, loc='right')\n",
    "# # pyplot.show()\n",
    "# # # values[:,0]"
   ]
  },
  {
   "cell_type": "code",
   "execution_count": null,
   "metadata": {},
   "outputs": [],
   "source": [
    "\n",
    "\n"
   ]
  },
  {
   "cell_type": "code",
   "execution_count": 9,
   "metadata": {},
   "outputs": [
    {
     "name": "stdout",
     "output_type": "stream",
     "text": [
      "(4504, 13)\n"
     ]
    }
   ],
   "source": [
    "n_hours=1\n",
    "n_out= 1\n",
    "dataset = read_csv('pollution.csv', header=0, index_col=0)\n",
    "values = dataset.values\n",
    "print(values.shape)\n",
    "# integer encode direction\n",
    "# encoder = LabelEncoder()\n",
    "# values[:,4] = encoder.fit_transform(values[:,4])\n",
    "# ensure all data is float\n",
    "# values = values.astype('float32')\n",
    "# # normalize features\n",
    "# # scaler = MinMaxScaler(feature_range=(0, 1))\n",
    "# # print(values.shape)\n",
    "# # scaled = scaler.fit_transform(values)\n",
    "# # print(len(scaled))\n",
    "# X, y = split_sequences(values, n_hours, n_out)\n",
    "# # for i in range(0,1):\n",
    "# #     print(X[i], y[i])\n",
    "# print(X.shape,y.shape)\n"
   ]
  },
  {
   "cell_type": "code",
   "execution_count": null,
   "metadata": {},
   "outputs": [],
   "source": []
  },
  {
   "cell_type": "code",
   "execution_count": null,
   "metadata": {},
   "outputs": [],
   "source": []
  },
  {
   "cell_type": "code",
   "execution_count": 14,
   "metadata": {},
   "outputs": [],
   "source": [
    "from keras.layers import RepeatVector\n",
    "from keras.layers import TimeDistributed\n",
    "from numpy import array\n",
    "\n",
    "\n",
    "def split_sequences(sequences, n_steps_in, n_steps_out):\n",
    "    X, y = list(), list()\n",
    "    for i in range(len(sequences)):\n",
    "    # find the end of this pattern\n",
    "        end_ix = i + n_steps_in\n",
    "        out_end_ix = end_ix + n_steps_out-1\n",
    "    # check if we are beyond the dataset\n",
    "        if out_end_ix > len(sequences):\n",
    "            break\n",
    "        # gather input and output parts of the pattern\n",
    "        \n",
    "        seq_x, seq_y = sequences[i:end_ix, :-1], sequences[end_ix-1:out_end_ix, -1]\n",
    "        X.append(seq_x)\n",
    "        y.append(seq_y)\n",
    "    return array(X), array(y)\n",
    "\n",
    "\n",
    "\n",
    "\n",
    "\n",
    "\n",
    "def MODEL_FNN_adam(train_X,test_X,train_y,test_y,val_X,val_y,n_out,n_hours,n_features):\n",
    "#     train_X=train_X.flatten()\n",
    "    print(train_X.shape)\n",
    "    train_X=np.reshape(train_X,(train_X.shape[0],n_hours*n_features))\n",
    "    test_X=np.reshape(test_X,(test_X.shape[0],n_hours*n_features))\n",
    "    val_X=np.reshape(val_X,(val_X.shape[0],n_hours*n_features))\n",
    "    model = Sequential()\n",
    "    model.add(Dense(256, input_dim=train_X.shape[1], activation='relu'))\n",
    "    model.add(Dense(1, activation='relu'))\n",
    "    model.add(Dense(n_out, activation='sigmoid'))\n",
    "    # compile the keras model\n",
    "    model.compile(loss='binary_crossentropy', optimizer='adam', metrics=['accuracy'])\n",
    "    # fit the keras model on the dataset\n",
    "    model.fit(train_X, train_y, epochs=200, batch_size=20, validation_data=(val_X, val_y), verbose=0, shuffle=False)\n",
    "    yhat11 = model.predict(test_X, verbose=0)\n",
    "    print(\"RMSE error using \",n_hours,\" state size to predict \",n_out,\" step is =\", np.sqrt(((np.sum((yhat11-test_y)**2,axis=0)))))\n",
    "    return(np.sqrt(((np.sum((yhat11-test_y)**2,axis=0)))))\n",
    "\n",
    "def MODEL_FNN_sgd(train_X,test_X,train_y,test_y,val_X,val_y,n_out,n_hours,n_features):\n",
    "#     train_X=train_X.flatten()\n",
    "    print(train_X.shape)\n",
    "    train_X=np.reshape(train_X,(train_X.shape[0],n_hours*n_features))\n",
    "    test_X=np.reshape(test_X,(test_X.shape[0],n_hours*n_features))\n",
    "    val_X=np.reshape(val_X,(val_X.shape[0],n_hours*n_features))\n",
    "    model = Sequential()\n",
    "    model.add(Dense(256, input_dim=train_X.shape[1], activation='relu'))\n",
    "    model.add(Dense(128, activation='relu'))\n",
    "    model.add(Dense(n_out, activation='sigmoid'))\n",
    "    # compile the keras model\n",
    "    model.compile(loss='binary_crossentropy', optimizer='sgd', metrics=['accuracy'])\n",
    "    # fit the keras model on the dataset\n",
    "    model.fit(train_X, train_y, epochs=200, batch_size=20, validation_data=(val_X, val_y), verbose=0, shuffle=False)\n",
    "    yhat11 = model.predict(test_X, verbose=0)\n",
    "    print(\"RMSE error using \",n_hours,\" state size to predict \",n_out,\" step is =\", np.sqrt(((np.sum((yhat11-test_y)**2,axis=0)))))\n",
    "    return(np.sqrt(((np.sum((yhat11-test_y)**2,axis=0)))))\n",
    "\n",
    "\n",
    "\n",
    "def MODEL_LSTM(train_X,test_X,train_y,test_y,val_X,val_y,n_out,n_hours,n_features):\n",
    "    model = Sequential()\n",
    "    model.add(LSTM(100, activation='relu', return_sequences=True, input_shape=(n_hours,n_features)))\n",
    "\n",
    "    model.add(LSTM(100, activation='relu'))\n",
    "    model.add(Dense(n_out))\n",
    "    model.compile(optimizer='adam', loss='mse')\n",
    "# fit model\n",
    "    model.fit(train_X, train_y, epochs=200, batch_size=20, validation_data=(val_X, val_y), verbose=0, shuffle=False)\n",
    "    yhat11 = model.predict(test_X, verbose=0)\n",
    "    print(\"RMSE error using \",n_hours,\" state size to predict \",n_out,\" step is =\", np.sqrt(((np.sum((yhat11-test_y)**2,axis=0)))))\n",
    "    return(np.sqrt(((np.sum((yhat11-test_y)**2,axis=0)))))\n",
    "\n",
    "def MODEL_Bi_LSTM(train_X,test_X,train_y,test_y,val_X,val_y,n_out,n_hours,n_features):\n",
    "    model = Sequential()\n",
    "    model.add(Bidirectional(LSTM(100, activation='relu', return_sequences=True, input_shape=(n_hours,n_features))))\n",
    "\n",
    "    model.add(Bidirectional(LSTM(100, activation='relu', return_sequences=True, input_shape=(n_hours,n_features))))\n",
    "    model.add(LSTM(100, activation='relu'))\n",
    "    model.add(Dense(n_out))\n",
    "    model.compile(optimizer='adam', loss='mse')\n",
    "# fit model\n",
    "    model.fit(train_X, train_y, epochs=200, batch_size=20, validation_data=(val_X, val_y), verbose=0, shuffle=False)\n",
    "    yhat11 = model.predict(test_X, verbose=0)\n",
    "    print(\"RMSE error using \",n_hours,\" state size to predict \",n_out,\" step is =\", np.sqrt(((np.sum((yhat11-test_y)**2,axis=0)))))\n",
    "    return(np.sqrt(((np.sum((yhat11-test_y)**2,axis=0)))))\n",
    "\n",
    "\n",
    "def MODEL_EN_DC(train_X,test_X,train_y,test_y,val_X,val_y,n_out,n_hours,n_features):\n",
    "    train_y = train_y.reshape((train_y.shape[0], train_y.shape[1], 1))\n",
    "    test_y = test_y.reshape((test_y.shape[0], test_y.shape[1], 1))\n",
    "    val_y = val_y.reshape((val_y.shape[0], val_y.shape[1], 1))\n",
    "    model = Sequential()\n",
    "    model.add(LSTM(200, activation='relu',input_shape=(n_hours,n_features)))\n",
    "    model.add(RepeatVector(n_out))\n",
    "    model.add(LSTM(200, activation='relu', return_sequences=True))\n",
    "    model.add(TimeDistributed(Dense(100, activation='relu')))\n",
    "    model.add(TimeDistributed(Dense(1)))\n",
    "#     model.add(Dense(n_out))\n",
    "    model.compile(optimizer='adam', loss='mse')\n",
    "# fit model\n",
    "    model.fit(train_X, train_y, epochs=200, batch_size=20, validation_data=(val_X, val_y), verbose=0, shuffle=False)\n",
    "    yhat11 = model.predict(test_X, verbose=0)\n",
    "    \n",
    "    print(\"RMSE error using \",n_hours,\" state size to predict \",n_out,\" step is =\", np.sqrt(((np.sum((yhat11-test_y)**2,axis=0)))))\n",
    "    return(np.sqrt(((np.sum((yhat11-test_y)**2,axis=0)))),yhat11,test_y)\n",
    "\n",
    "def main(n_out_max,n_hour_max):\n",
    "    dataset = read_csv('pollution.csv', header=0, index_col=0)\n",
    "    values = dataset.values  \n",
    "    values = values.astype('float32')\n",
    "# normalize features\n",
    "    scaler = MinMaxScaler(feature_range=(0, 1))\n",
    "    print(values.shape)\n",
    "    scaled = scaler.fit_transform(values)\n",
    "    print(len(scaled))\n",
    "    result=np.zeros((n_out_max,n_hour_max),dtype=np.float32)\n",
    "    for n_out in range (1,n_out_max+1):\n",
    "        for n_hours in range(1,n_hour_max+1):\n",
    "            print(\"Number of steps predicted= \",n_out,\"Number of steps Multivariate threads ussed= \",n_hours)\n",
    "            X, y = split_sequences(scaled, n_hours, n_out)\n",
    "            train_X, train_y = X[0:300,:,:], y[0:300,:]\n",
    "            val_X, val_y = X[300:330,:,:], y[300:330,:]\n",
    "            test_X, test_y = X[330:,:,:], y[330:,:]\n",
    "            print(\"train_X.shape, train_y.shape, test_X.shape, test_y.shape=\",train_X.shape, train_y.shape, test_X.shape, test_y.shape)\n",
    "            print(\"val X, val y\",val_X.shape, val_y.shape)\n",
    "            n_features = X.shape[2]\n",
    "            error=MODEL(train_X,test_X,train_y,test_y,val_X,val_y,n_out,n_hours,n_features)\n",
    "            result[n_out-1,n_hours-1]=error\n",
    "      \n",
    "    return result\n",
    "            \n",
    "            \n",
    "            \n",
    "            \n",
    "n_out_max,n_hour_max= 10,5\n",
    "\n",
    "# r5=main(5,10)\n",
    "import datetime\n",
    "out_range=[10]\n",
    "dataset_train = read_csv('train_pollution.csv', header=0, index_col=0)\n",
    "dataset_test = read_csv('test_pollution.csv', header=0, index_col=0)\n",
    "values_train = dataset_train.values\n",
    "values_test = dataset_test.values\n",
    "values_train=values_train[:,1:-6]\n",
    "values_test=values_test[:,1:-6]\n",
    "\n",
    "values_train = values_train.astype('float32')\n",
    "values_test = values_test.astype('float32')"
   ]
  },
  {
   "cell_type": "code",
   "execution_count": 7,
   "metadata": {},
   "outputs": [
    {
     "name": "stderr",
     "output_type": "stream",
     "text": [
      "WARNING: Logging before flag parsing goes to stderr.\n",
      "W0727 11:54:16.563438 139686236600064 deprecation_wrapper.py:119] From /home/rishotics/anaconda3/envs/rl3.6/lib/python3.6/site-packages/keras/backend/tensorflow_backend.py:74: The name tf.get_default_graph is deprecated. Please use tf.compat.v1.get_default_graph instead.\n",
      "\n",
      "W0727 11:54:16.702642 139686236600064 deprecation_wrapper.py:119] From /home/rishotics/anaconda3/envs/rl3.6/lib/python3.6/site-packages/keras/backend/tensorflow_backend.py:517: The name tf.placeholder is deprecated. Please use tf.compat.v1.placeholder instead.\n",
      "\n",
      "W0727 11:54:16.704789 139686236600064 deprecation_wrapper.py:119] From /home/rishotics/anaconda3/envs/rl3.6/lib/python3.6/site-packages/keras/backend/tensorflow_backend.py:4138: The name tf.random_uniform is deprecated. Please use tf.random.uniform instead.\n",
      "\n",
      "W0727 11:54:16.747227 139686236600064 deprecation_wrapper.py:119] From /home/rishotics/anaconda3/envs/rl3.6/lib/python3.6/site-packages/keras/optimizers.py:790: The name tf.train.Optimizer is deprecated. Please use tf.compat.v1.train.Optimizer instead.\n",
      "\n"
     ]
    },
    {
     "name": "stdout",
     "output_type": "stream",
     "text": [
      "Number of steps predicted=  10 Number of steps Multivariate threads ussed=  10 iteration number=  1\n",
      "(852, 10, 11) (852, 10)\n",
      "train_X.shape, train_y.shape, test_X.shape, test_y.shape= (3351, 10, 11) (3351, 10) (452, 10, 11) (452, 10)\n",
      "val X, val y (400, 10, 11) (400, 10)\n",
      "(3351, 10, 11)\n"
     ]
    },
    {
     "name": "stderr",
     "output_type": "stream",
     "text": [
      "W0727 11:54:16.769717 139686236600064 deprecation_wrapper.py:119] From /home/rishotics/anaconda3/envs/rl3.6/lib/python3.6/site-packages/keras/backend/tensorflow_backend.py:3376: The name tf.log is deprecated. Please use tf.math.log instead.\n",
      "\n",
      "W0727 11:54:16.774148 139686236600064 deprecation.py:323] From /home/rishotics/anaconda3/envs/rl3.6/lib/python3.6/site-packages/tensorflow/python/ops/nn_impl.py:180: add_dispatch_support.<locals>.wrapper (from tensorflow.python.ops.array_ops) is deprecated and will be removed in a future version.\n",
      "Instructions for updating:\n",
      "Use tf.where in 2.0, which has the same broadcast rule as np.where\n",
      "W0727 11:54:17.002146 139686236600064 deprecation_wrapper.py:119] From /home/rishotics/anaconda3/envs/rl3.6/lib/python3.6/site-packages/keras/backend/tensorflow_backend.py:986: The name tf.assign_add is deprecated. Please use tf.compat.v1.assign_add instead.\n",
      "\n"
     ]
    },
    {
     "name": "stdout",
     "output_type": "stream",
     "text": [
      "RMSE error using  10  state size to predict  10  step is = [1687.1726 1703.3126 1684.3483 1684.8247 1685.0763 1684.6573 1684.4218\n",
      " 1683.5906 1683.5874 1683.9226]\n"
     ]
    }
   ],
   "source": [
    "\n",
    "# result=np.zeros((len(out_range),10),dtype=np.float32)\n",
    "result= []\n",
    "# dataset = read_csv('pollution.csv', header=0, index_col=0)\n",
    "# values = dataset.values\n",
    "# integer encode direction\n",
    "# encoder = LabelEncoder()\n",
    "# values[:,4] = encoder.fit_transform(values[:,4])\n",
    "# ensure all data is float\n",
    "\n",
    "dataset_train = read_csv('train_pollution.csv', header=0, index_col=0)\n",
    "dataset_test = read_csv('test_pollution.csv', header=0, index_col=0)\n",
    "values_train = dataset_train.values\n",
    "values_test = dataset_test.values\n",
    "values_train=values_train[:,1:-6]\n",
    "values_test=values_test[:,1:-6]\n",
    "\n",
    "values_train = values_train.astype('float32')\n",
    "values_test = values_test.astype('float32')\n",
    "for i,k in enumerate(out_range):\n",
    "    for j in range(1,2):\n",
    "        for m in range(10,11):\n",
    "            n_out=k\n",
    "            n_hours=m\n",
    "            print(\"Number of steps predicted= \",n_out,\"Number of steps Multivariate threads ussed= \",n_hours, \"iteration number= \",j)\n",
    "            \n",
    "#             X, y = split_sequences(values, n_hours, n_out)\n",
    "            train_X, train_y = split_sequences(values_train,n_hours,n_out)\n",
    "            val_X, val_y = split_sequences(values_test,n_hours,n_out)\n",
    "            print(val_X.shape,val_y.shape)\n",
    "            test_X, test_y = val_X[400:852,:,:],val_y[400:852,:]\n",
    "            val_X, val_y = val_X[0:400,:,:],val_y[0:400,:]\n",
    "            print(\"train_X.shape, train_y.shape, test_X.shape, test_y.shape=\",train_X.shape, train_y.shape, test_X.shape, test_y.shape)\n",
    "            print(\"val X, val y\",val_X.shape, val_y.shape)\n",
    "            n_features = train_X.shape[2]\n",
    "            error=MODEL_FNN_sgd(train_X,test_X,train_y,test_y,val_X,val_y,n_out,n_hours,n_features)\n",
    "#             result[i,m-1]=result[i,m-1]+error\n",
    "            result.append(error)\n",
    "            \n",
    "        \n",
    "result=np.array(result)\n",
    "np.savetxt(\"10i_\"+str(result.shape[1])+\"o_FNN_sgd_\"+str(result.shape[0])+\"i.csv\"+str(datetime.datetime.now()), result, delimiter=\",\")"
   ]
  },
  {
   "cell_type": "code",
   "execution_count": 62,
   "metadata": {},
   "outputs": [
    {
     "name": "stdout",
     "output_type": "stream",
     "text": [
      "Number of steps predicted=  10 Number of steps Multivariate threads ussed=  10 iteration number=  1\n",
      "(852, 10, 11) (852, 10)\n",
      "train_X.shape, train_y.shape, test_X.shape, test_y.shape= (3351, 10, 11) (3351, 10) (452, 10, 11) (452, 10)\n",
      "val X, val y (400, 10, 11) (400, 10)\n",
      "(3351, 10, 11)\n",
      "RMSE error using  10  state size to predict  10  step is = [1687.1726 1686.9001 1684.3483 1684.8247 1685.0763 1684.6573 1684.4218\n",
      " 1683.5906 1683.5874 1683.9226]\n",
      "Number of steps predicted=  10 Number of steps Multivariate threads ussed=  10 iteration number=  2\n",
      "(852, 10, 11) (852, 10)\n",
      "train_X.shape, train_y.shape, test_X.shape, test_y.shape= (3351, 10, 11) (3351, 10) (452, 10, 11) (452, 10)\n",
      "val X, val y (400, 10, 11) (400, 10)\n",
      "(3351, 10, 11)\n",
      "RMSE error using  10  state size to predict  10  step is = [1703.589  1686.9001 1700.7543 1684.8247 1685.0763 1684.6573 1700.8264\n",
      " 1683.5906 1683.5874 1683.9226]\n",
      "Number of steps predicted=  10 Number of steps Multivariate threads ussed=  10 iteration number=  3\n",
      "(852, 10, 11) (852, 10)\n",
      "train_X.shape, train_y.shape, test_X.shape, test_y.shape= (3351, 10, 11) (3351, 10) (452, 10, 11) (452, 10)\n",
      "val X, val y (400, 10, 11) (400, 10)\n",
      "(3351, 10, 11)\n",
      "RMSE error using  10  state size to predict  10  step is = [1687.1726 1686.9001 1684.3483 1684.8247 1685.0763 1684.6573 1700.8264\n",
      " 1683.5906 1683.5874 1683.9226]\n",
      "Number of steps predicted=  10 Number of steps Multivariate threads ussed=  10 iteration number=  4\n",
      "(852, 10, 11) (852, 10)\n",
      "train_X.shape, train_y.shape, test_X.shape, test_y.shape= (3351, 10, 11) (3351, 10) (452, 10, 11) (452, 10)\n",
      "val X, val y (400, 10, 11) (400, 10)\n",
      "(3351, 10, 11)\n",
      "RMSE error using  10  state size to predict  10  step is = [1687.1726 1686.9001 1700.7543 1684.8247 1701.4889 1701.065  1700.8264\n",
      " 1683.5906 1683.5874 1683.9226]\n",
      "Number of steps predicted=  10 Number of steps Multivariate threads ussed=  10 iteration number=  5\n",
      "(852, 10, 11) (852, 10)\n",
      "train_X.shape, train_y.shape, test_X.shape, test_y.shape= (3351, 10, 11) (3351, 10) (452, 10, 11) (452, 10)\n",
      "val X, val y (400, 10, 11) (400, 10)\n",
      "(3351, 10, 11)\n",
      "RMSE error using  10  state size to predict  10  step is = [1687.1726 1686.9001 1684.3483 1684.8247 1685.0763 1684.6573 1684.4218\n",
      " 1683.5906 1683.5874 1683.9226]\n",
      "Number of steps predicted=  10 Number of steps Multivariate threads ussed=  10 iteration number=  6\n",
      "(852, 10, 11) (852, 10)\n",
      "train_X.shape, train_y.shape, test_X.shape, test_y.shape= (3351, 10, 11) (3351, 10) (452, 10, 11) (452, 10)\n",
      "val X, val y (400, 10, 11) (400, 10)\n",
      "(3351, 10, 11)\n",
      "RMSE error using  10  state size to predict  10  step is = [1687.1726 1686.9001 1684.3483 1684.8247 1685.0763 1684.6573 1684.4218\n",
      " 1683.5906 1683.5874 1683.9226]\n",
      "Number of steps predicted=  10 Number of steps Multivariate threads ussed=  10 iteration number=  7\n",
      "(852, 10, 11) (852, 10)\n",
      "train_X.shape, train_y.shape, test_X.shape, test_y.shape= (3351, 10, 11) (3351, 10) (452, 10, 11) (452, 10)\n",
      "val X, val y (400, 10, 11) (400, 10)\n",
      "(3351, 10, 11)\n",
      "RMSE error using  10  state size to predict  10  step is = [1703.589  1686.9001 1700.7543 1684.8247 1685.0763 1684.6573 1700.8264\n",
      " 1683.5906 1683.5874 1683.9226]\n",
      "Number of steps predicted=  10 Number of steps Multivariate threads ussed=  10 iteration number=  8\n",
      "(852, 10, 11) (852, 10)\n",
      "train_X.shape, train_y.shape, test_X.shape, test_y.shape= (3351, 10, 11) (3351, 10) (452, 10, 11) (452, 10)\n",
      "val X, val y (400, 10, 11) (400, 10)\n",
      "(3351, 10, 11)\n",
      "RMSE error using  10  state size to predict  10  step is = [1687.1726 1686.9001 1684.3483 1684.8247 1685.0763 1684.6573 1684.4218\n",
      " 1683.5906 1683.5874 1683.9226]\n",
      "Number of steps predicted=  10 Number of steps Multivariate threads ussed=  10 iteration number=  9\n",
      "(852, 10, 11) (852, 10)\n",
      "train_X.shape, train_y.shape, test_X.shape, test_y.shape= (3351, 10, 11) (3351, 10) (452, 10, 11) (452, 10)\n",
      "val X, val y (400, 10, 11) (400, 10)\n",
      "(3351, 10, 11)\n",
      "RMSE error using  10  state size to predict  10  step is = [1687.1726 1686.9001 1684.3483 1684.8247 1685.0763 1684.6573 1684.4218\n",
      " 1683.5906 1683.5874 1683.9226]\n",
      "Number of steps predicted=  10 Number of steps Multivariate threads ussed=  10 iteration number=  10\n",
      "(852, 10, 11) (852, 10)\n",
      "train_X.shape, train_y.shape, test_X.shape, test_y.shape= (3351, 10, 11) (3351, 10) (452, 10, 11) (452, 10)\n",
      "val X, val y (400, 10, 11) (400, 10)\n",
      "(3351, 10, 11)\n",
      "RMSE error using  10  state size to predict  10  step is = [1687.1726 1703.3126 1684.3483 1684.8247 1701.4889 1701.065  1700.8264\n",
      " 1683.5906 1699.9822 1683.9226]\n",
      "Number of steps predicted=  10 Number of steps Multivariate threads ussed=  10 iteration number=  11\n",
      "(852, 10, 11) (852, 10)\n",
      "train_X.shape, train_y.shape, test_X.shape, test_y.shape= (3351, 10, 11) (3351, 10) (452, 10, 11) (452, 10)\n",
      "val X, val y (400, 10, 11) (400, 10)\n",
      "(3351, 10, 11)\n",
      "RMSE error using  10  state size to predict  10  step is = [1687.1726 1686.9001 1684.3483 1684.8247 1685.0763 1684.6573 1684.4218\n",
      " 1683.5906 1683.5874 1683.9226]\n",
      "Number of steps predicted=  10 Number of steps Multivariate threads ussed=  10 iteration number=  12\n",
      "(852, 10, 11) (852, 10)\n",
      "train_X.shape, train_y.shape, test_X.shape, test_y.shape= (3351, 10, 11) (3351, 10) (452, 10, 11) (452, 10)\n",
      "val X, val y (400, 10, 11) (400, 10)\n",
      "(3351, 10, 11)\n",
      "RMSE error using  10  state size to predict  10  step is = [1703.589  1686.9001 1684.3483 1684.8247 1701.4889 1684.6573 1684.4218\n",
      " 1683.5906 1683.5874 1683.9226]\n",
      "Number of steps predicted=  10 Number of steps Multivariate threads ussed=  10 iteration number=  13\n",
      "(852, 10, 11) (852, 10)\n",
      "train_X.shape, train_y.shape, test_X.shape, test_y.shape= (3351, 10, 11) (3351, 10) (452, 10, 11) (452, 10)\n",
      "val X, val y (400, 10, 11) (400, 10)\n",
      "(3351, 10, 11)\n",
      "RMSE error using  10  state size to predict  10  step is = [1687.1726 1703.3126 1684.3483 1684.8247 1685.0763 1684.6573 1684.4218\n",
      " 1683.5906 1683.5874 1683.9226]\n",
      "Number of steps predicted=  10 Number of steps Multivariate threads ussed=  10 iteration number=  14\n",
      "(852, 10, 11) (852, 10)\n",
      "train_X.shape, train_y.shape, test_X.shape, test_y.shape= (3351, 10, 11) (3351, 10) (452, 10, 11) (452, 10)\n",
      "val X, val y (400, 10, 11) (400, 10)\n",
      "(3351, 10, 11)\n",
      "RMSE error using  10  state size to predict  10  step is = [1703.589  1686.9001 1684.3483 1684.8247 1685.0763 1684.6573 1700.8264\n",
      " 1683.5906 1683.5874 1700.3268]\n",
      "Number of steps predicted=  10 Number of steps Multivariate threads ussed=  10 iteration number=  15\n",
      "(852, 10, 11) (852, 10)\n",
      "train_X.shape, train_y.shape, test_X.shape, test_y.shape= (3351, 10, 11) (3351, 10) (452, 10, 11) (452, 10)\n",
      "val X, val y (400, 10, 11) (400, 10)\n",
      "(3351, 10, 11)\n",
      "RMSE error using  10  state size to predict  10  step is = [1703.589  1686.9001 1684.3483 1684.8247 1701.4889 1684.6573 1684.4218\n",
      " 1699.9855 1683.5874 1700.3268]\n",
      "Number of steps predicted=  10 Number of steps Multivariate threads ussed=  10 iteration number=  16\n",
      "(852, 10, 11) (852, 10)\n",
      "train_X.shape, train_y.shape, test_X.shape, test_y.shape= (3351, 10, 11) (3351, 10) (452, 10, 11) (452, 10)\n",
      "val X, val y (400, 10, 11) (400, 10)\n",
      "(3351, 10, 11)\n",
      "RMSE error using  10  state size to predict  10  step is = [1687.1726 1686.9001 1684.3483 1684.8247 1685.0763 1684.6573 1684.4218\n",
      " 1683.5906 1683.5874 1683.9226]\n",
      "Number of steps predicted=  10 Number of steps Multivariate threads ussed=  10 iteration number=  17\n",
      "(852, 10, 11) (852, 10)\n",
      "train_X.shape, train_y.shape, test_X.shape, test_y.shape= (3351, 10, 11) (3351, 10) (452, 10, 11) (452, 10)\n",
      "val X, val y (400, 10, 11) (400, 10)\n",
      "(3351, 10, 11)\n",
      "RMSE error using  10  state size to predict  10  step is = [1687.1726 1686.9001 1684.3483 1684.8247 1685.0763 1684.6573 1684.4218\n",
      " 1683.5906 1683.5874 1683.9226]\n",
      "Number of steps predicted=  10 Number of steps Multivariate threads ussed=  10 iteration number=  18\n",
      "(852, 10, 11) (852, 10)\n",
      "train_X.shape, train_y.shape, test_X.shape, test_y.shape= (3351, 10, 11) (3351, 10) (452, 10, 11) (452, 10)\n",
      "val X, val y (400, 10, 11) (400, 10)\n",
      "(3351, 10, 11)\n",
      "RMSE error using  10  state size to predict  10  step is = [1687.1726 1686.9001 1684.3483 1684.8247 1685.0763 1684.6573 1684.4218\n",
      " 1683.5906 1683.5874 1683.9226]\n",
      "Number of steps predicted=  10 Number of steps Multivariate threads ussed=  10 iteration number=  19\n",
      "(852, 10, 11) (852, 10)\n",
      "train_X.shape, train_y.shape, test_X.shape, test_y.shape= (3351, 10, 11) (3351, 10) (452, 10, 11) (452, 10)\n",
      "val X, val y (400, 10, 11) (400, 10)\n",
      "(3351, 10, 11)\n"
     ]
    },
    {
     "name": "stdout",
     "output_type": "stream",
     "text": [
      "RMSE error using  10  state size to predict  10  step is = [1687.1726 1686.9001 1684.3483 1684.8247 1685.0763 1684.6573 1684.4218\n",
      " 1683.5906 1683.5874 1683.9226]\n",
      "Number of steps predicted=  10 Number of steps Multivariate threads ussed=  10 iteration number=  20\n",
      "(852, 10, 11) (852, 10)\n",
      "train_X.shape, train_y.shape, test_X.shape, test_y.shape= (3351, 10, 11) (3351, 10) (452, 10, 11) (452, 10)\n",
      "val X, val y (400, 10, 11) (400, 10)\n",
      "(3351, 10, 11)\n",
      "RMSE error using  10  state size to predict  10  step is = [1687.1726 1703.3126 1684.3483 1684.8247 1685.0763 1701.065  1684.4218\n",
      " 1683.5906 1683.5874 1683.9226]\n",
      "Number of steps predicted=  10 Number of steps Multivariate threads ussed=  10 iteration number=  21\n",
      "(852, 10, 11) (852, 10)\n",
      "train_X.shape, train_y.shape, test_X.shape, test_y.shape= (3351, 10, 11) (3351, 10) (452, 10, 11) (452, 10)\n",
      "val X, val y (400, 10, 11) (400, 10)\n",
      "(3351, 10, 11)\n",
      "RMSE error using  10  state size to predict  10  step is = [1687.1726 1686.9001 1684.3483 1684.8247 1685.0763 1684.6573 1684.4218\n",
      " 1683.5906 1683.5874 1683.9226]\n",
      "Number of steps predicted=  10 Number of steps Multivariate threads ussed=  10 iteration number=  22\n",
      "(852, 10, 11) (852, 10)\n",
      "train_X.shape, train_y.shape, test_X.shape, test_y.shape= (3351, 10, 11) (3351, 10) (452, 10, 11) (452, 10)\n",
      "val X, val y (400, 10, 11) (400, 10)\n",
      "(3351, 10, 11)\n",
      "RMSE error using  10  state size to predict  10  step is = [1687.1726 1686.9001 1700.7543 1701.235  1685.0763 1701.065  1700.8264\n",
      " 1683.5906 1683.5874 1683.9226]\n",
      "Number of steps predicted=  10 Number of steps Multivariate threads ussed=  10 iteration number=  23\n",
      "(852, 10, 11) (852, 10)\n",
      "train_X.shape, train_y.shape, test_X.shape, test_y.shape= (3351, 10, 11) (3351, 10) (452, 10, 11) (452, 10)\n",
      "val X, val y (400, 10, 11) (400, 10)\n",
      "(3351, 10, 11)\n",
      "RMSE error using  10  state size to predict  10  step is = [1703.589  1686.9001 1684.3483 1684.8247 1685.0763 1684.6573 1684.4218\n",
      " 1683.5906 1699.9822 1683.9226]\n",
      "Number of steps predicted=  10 Number of steps Multivariate threads ussed=  10 iteration number=  24\n",
      "(852, 10, 11) (852, 10)\n",
      "train_X.shape, train_y.shape, test_X.shape, test_y.shape= (3351, 10, 11) (3351, 10) (452, 10, 11) (452, 10)\n",
      "val X, val y (400, 10, 11) (400, 10)\n",
      "(3351, 10, 11)\n",
      "RMSE error using  10  state size to predict  10  step is = [1687.1726 1686.9001 1684.3483 1684.8247 1685.0763 1684.6573 1684.4218\n",
      " 1683.5906 1683.5874 1683.9226]\n",
      "Number of steps predicted=  10 Number of steps Multivariate threads ussed=  10 iteration number=  25\n",
      "(852, 10, 11) (852, 10)\n",
      "train_X.shape, train_y.shape, test_X.shape, test_y.shape= (3351, 10, 11) (3351, 10) (452, 10, 11) (452, 10)\n",
      "val X, val y (400, 10, 11) (400, 10)\n",
      "(3351, 10, 11)\n",
      "RMSE error using  10  state size to predict  10  step is = [1687.1726 1703.3126 1700.7543 1701.235  1685.0763 1684.6573 1684.4218\n",
      " 1683.5906 1699.9822 1683.9226]\n",
      "Number of steps predicted=  10 Number of steps Multivariate threads ussed=  10 iteration number=  26\n",
      "(852, 10, 11) (852, 10)\n",
      "train_X.shape, train_y.shape, test_X.shape, test_y.shape= (3351, 10, 11) (3351, 10) (452, 10, 11) (452, 10)\n",
      "val X, val y (400, 10, 11) (400, 10)\n",
      "(3351, 10, 11)\n",
      "RMSE error using  10  state size to predict  10  step is = [1703.589  1686.9001 1684.3483 1684.8247 1701.4889 1684.6573 1684.4218\n",
      " 1683.5906 1699.9822 1683.9226]\n",
      "Number of steps predicted=  10 Number of steps Multivariate threads ussed=  10 iteration number=  27\n",
      "(852, 10, 11) (852, 10)\n",
      "train_X.shape, train_y.shape, test_X.shape, test_y.shape= (3351, 10, 11) (3351, 10) (452, 10, 11) (452, 10)\n",
      "val X, val y (400, 10, 11) (400, 10)\n",
      "(3351, 10, 11)\n",
      "RMSE error using  10  state size to predict  10  step is = [1687.1726 1686.9001 1684.3483 1684.8247 1685.0763 1684.6573 1684.4218\n",
      " 1683.5906 1683.5874 1683.9226]\n",
      "Number of steps predicted=  10 Number of steps Multivariate threads ussed=  10 iteration number=  28\n",
      "(852, 10, 11) (852, 10)\n",
      "train_X.shape, train_y.shape, test_X.shape, test_y.shape= (3351, 10, 11) (3351, 10) (452, 10, 11) (452, 10)\n",
      "val X, val y (400, 10, 11) (400, 10)\n",
      "(3351, 10, 11)\n",
      "RMSE error using  10  state size to predict  10  step is = [1687.1726 1686.9001 1684.3483 1701.235  1685.0763 1701.065  1700.8264\n",
      " 1683.5906 1683.5874 1700.3268]\n",
      "Number of steps predicted=  10 Number of steps Multivariate threads ussed=  10 iteration number=  29\n",
      "(852, 10, 11) (852, 10)\n",
      "train_X.shape, train_y.shape, test_X.shape, test_y.shape= (3351, 10, 11) (3351, 10) (452, 10, 11) (452, 10)\n",
      "val X, val y (400, 10, 11) (400, 10)\n",
      "(3351, 10, 11)\n",
      "RMSE error using  10  state size to predict  10  step is = [1687.1726 1686.9001 1684.3483 1684.8247 1701.4889 1701.065  1684.4218\n",
      " 1683.5906 1699.9822 1683.9226]\n",
      "Number of steps predicted=  10 Number of steps Multivariate threads ussed=  10 iteration number=  30\n",
      "(852, 10, 11) (852, 10)\n",
      "train_X.shape, train_y.shape, test_X.shape, test_y.shape= (3351, 10, 11) (3351, 10) (452, 10, 11) (452, 10)\n",
      "val X, val y (400, 10, 11) (400, 10)\n",
      "(3351, 10, 11)\n",
      "RMSE error using  10  state size to predict  10  step is = [1703.589  1686.9001 1684.3483 1701.235  1685.0763 1684.6573 1684.4218\n",
      " 1683.5906 1683.5874 1700.3268]\n"
     ]
    }
   ],
   "source": [
    "result= []\n",
    "for i,k in enumerate(out_range):\n",
    "    for j in range(1,):\n",
    "        for m in range(10,11):\n",
    "            n_out=k\n",
    "            n_hours=m\n",
    "            print(\"Number of steps predicted= \",n_out,\"Number of steps Multivariate threads ussed= \",n_hours, \"iteration number= \",j)\n",
    "            \n",
    "            train_X, train_y = split_sequences(values_train,n_hours,n_out)\n",
    "            val_X, val_y = split_sequences(values_test,n_hours,n_out)\n",
    "            print(val_X.shape,val_y.shape)\n",
    "            test_X, test_y = val_X[400:852,:,:],val_y[400:852,:]\n",
    "            val_X, val_y = val_X[0:400,:,:],val_y[0:400,:]\n",
    "            print(\"train_X.shape, train_y.shape, test_X.shape, test_y.shape=\",train_X.shape, train_y.shape, test_X.shape, test_y.shape)\n",
    "            print(\"val X, val y\",val_X.shape, val_y.shape)\n",
    "            n_features = X.shape[2]\n",
    "            error=MODEL_FNN_adam(train_X,test_X,train_y,test_y,val_X,val_y,n_out,n_hours,n_features)\n",
    "#             result[i,m-1]=result[i,m-1]+error\n",
    "            result.append(error)\n",
    "            \n",
    "        \n",
    "result=np.array(result)\n",
    "np.savetxt(\"10i_\"+str(result.shape[1])+\"o_FNN_adam_\"+str(result.shape[0])+\"i.csv\"+str(datetime.datetime.now()), result, delimiter=\",\")"
   ]
  },
  {
   "cell_type": "code",
   "execution_count": null,
   "metadata": {},
   "outputs": [
    {
     "name": "stdout",
     "output_type": "stream",
     "text": [
      "Number of steps predicted=  10 Number of steps Multivariate threads ussed=  10 iteration number=  1\n",
      "(852, 10, 11) (852, 10)\n",
      "train_X.shape, train_y.shape, test_X.shape, test_y.shape= (3351, 10, 11) (3351, 10) (452, 10, 11) (452, 10)\n",
      "val X, val y (400, 10, 11) (400, 10)\n",
      "RMSE error using  10  state size to predict  10  step is = [ 984.3997 1561.0587 1743.3611 2033.1942 2607.3203 2549.747  2936.8887\n",
      " 3521.6306 3535.2332 3489.8276]\n",
      "Number of steps predicted=  10 Number of steps Multivariate threads ussed=  10 iteration number=  2\n",
      "(852, 10, 11) (852, 10)\n",
      "train_X.shape, train_y.shape, test_X.shape, test_y.shape= (3351, 10, 11) (3351, 10) (452, 10, 11) (452, 10)\n",
      "val X, val y (400, 10, 11) (400, 10)\n",
      "RMSE error using  10  state size to predict  10  step is = [ 667.07074  900.2795  1022.54565 1138.2212  1189.4921  1242.9229\n",
      " 1347.1564  1505.805   1611.873   1683.8087 ]\n",
      "Number of steps predicted=  10 Number of steps Multivariate threads ussed=  10 iteration number=  3\n",
      "(852, 10, 11) (852, 10)\n",
      "train_X.shape, train_y.shape, test_X.shape, test_y.shape= (3351, 10, 11) (3351, 10) (452, 10, 11) (452, 10)\n",
      "val X, val y (400, 10, 11) (400, 10)\n"
     ]
    }
   ],
   "source": [
    "result= []\n",
    "for i,k in enumerate(out_range):\n",
    "    for j in range(1,4):\n",
    "        for m in range(10,11):\n",
    "            n_out=k\n",
    "            n_hours=m\n",
    "            print(\"Number of steps predicted= \",n_out,\"Number of steps Multivariate threads ussed= \",n_hours, \"iteration number= \",j)\n",
    "            \n",
    "            train_X, train_y = split_sequences(values_train,n_hours,n_out)\n",
    "            val_X, val_y = split_sequences(values_test,n_hours,n_out)\n",
    "            print(val_X.shape,val_y.shape)\n",
    "            test_X, test_y = val_X[400:852,:,:],val_y[400:852,:]\n",
    "            val_X, val_y = val_X[0:400,:,:],val_y[0:400,:]\n",
    "            print(\"train_X.shape, train_y.shape, test_X.shape, test_y.shape=\",train_X.shape, train_y.shape, test_X.shape, test_y.shape)\n",
    "            print(\"val X, val y\",val_X.shape, val_y.shape)\n",
    "            n_features = train_X.shape[2]\n",
    "            error=MODEL_LSTM(train_X,test_X,train_y,test_y,val_X,val_y,n_out,n_hours,n_features)\n",
    "#             result[i,m-1]=result[i,m-1]+error\n",
    "            result.append(error)\n",
    "            \n",
    "        \n",
    "result=np.array(result)\n",
    "np.savetxt(\"10i_\"+str(result.shape[1])+\"o_LSTM_\"+str(result.shape[0])+\"i.csv\"+str(datetime.datetime.now()), result, delimiter=\",\")"
   ]
  },
  {
   "cell_type": "code",
   "execution_count": 16,
   "metadata": {},
   "outputs": [
    {
     "name": "stderr",
     "output_type": "stream",
     "text": [
      "WARNING: Logging before flag parsing goes to stderr.\n",
      "W0727 12:49:38.035093 139700072916736 deprecation_wrapper.py:119] From /home/rishotics/anaconda3/envs/rl3.6/lib/python3.6/site-packages/keras/backend/tensorflow_backend.py:74: The name tf.get_default_graph is deprecated. Please use tf.compat.v1.get_default_graph instead.\n",
      "\n",
      "W0727 12:49:38.051503 139700072916736 deprecation_wrapper.py:119] From /home/rishotics/anaconda3/envs/rl3.6/lib/python3.6/site-packages/keras/optimizers.py:790: The name tf.train.Optimizer is deprecated. Please use tf.compat.v1.train.Optimizer instead.\n",
      "\n",
      "W0727 12:49:38.066375 139700072916736 deprecation_wrapper.py:119] From /home/rishotics/anaconda3/envs/rl3.6/lib/python3.6/site-packages/keras/backend/tensorflow_backend.py:517: The name tf.placeholder is deprecated. Please use tf.compat.v1.placeholder instead.\n",
      "\n",
      "W0727 12:49:38.067845 139700072916736 deprecation_wrapper.py:119] From /home/rishotics/anaconda3/envs/rl3.6/lib/python3.6/site-packages/keras/backend/tensorflow_backend.py:4138: The name tf.random_uniform is deprecated. Please use tf.random.uniform instead.\n",
      "\n"
     ]
    },
    {
     "name": "stdout",
     "output_type": "stream",
     "text": [
      "Number of steps predicted=  10 Number of steps Multivariate threads ussed=  10 iteration number=  1\n",
      "(852, 10, 11) (852, 10)\n",
      "train_X.shape, train_y.shape, test_X.shape, test_y.shape= (3351, 10, 11) (3351, 10) (452, 10, 11) (452, 10)\n",
      "val X, val y (400, 10, 11) (400, 10)\n"
     ]
    },
    {
     "name": "stderr",
     "output_type": "stream",
     "text": [
      "W0727 12:49:39.464528 139700072916736 deprecation.py:323] From /home/rishotics/anaconda3/envs/rl3.6/lib/python3.6/site-packages/tensorflow/python/ops/math_grad.py:1250: add_dispatch_support.<locals>.wrapper (from tensorflow.python.ops.array_ops) is deprecated and will be removed in a future version.\n",
      "Instructions for updating:\n",
      "Use tf.where in 2.0, which has the same broadcast rule as np.where\n",
      "W0727 12:49:41.785706 139700072916736 deprecation_wrapper.py:119] From /home/rishotics/anaconda3/envs/rl3.6/lib/python3.6/site-packages/keras/backend/tensorflow_backend.py:986: The name tf.assign_add is deprecated. Please use tf.compat.v1.assign_add instead.\n",
      "\n",
      "W0727 12:49:41.980125 139700072916736 deprecation_wrapper.py:119] From /home/rishotics/anaconda3/envs/rl3.6/lib/python3.6/site-packages/keras/backend/tensorflow_backend.py:973: The name tf.assign is deprecated. Please use tf.compat.v1.assign instead.\n",
      "\n"
     ]
    },
    {
     "name": "stdout",
     "output_type": "stream",
     "text": [
      "RMSE error using  10  state size to predict  10  step is = [ 668.5189 1044.7133 1229.7838 1271.9037 1508.1089 1623.457  1637.5133\n",
      " 1717.6722 1767.8479 1707.3414]\n"
     ]
    }
   ],
   "source": [
    "result= []\n",
    "for i,k in enumerate(out_range):\n",
    "    for j in range(1,2):\n",
    "        for m in range(10,11):\n",
    "            n_out=k\n",
    "            n_hours=m\n",
    "            print(\"Number of steps predicted= \",n_out,\"Number of steps Multivariate threads ussed= \",n_hours, \"iteration number= \",j)\n",
    "            \n",
    "            train_X, train_y = split_sequences(values_train,n_hours,n_out)\n",
    "            val_X, val_y = split_sequences(values_test,n_hours,n_out)\n",
    "            print(val_X.shape,val_y.shape)\n",
    "            test_X, test_y = val_X[400:852,:,:],val_y[400:852,:]\n",
    "            val_X, val_y = val_X[0:400,:,:],val_y[0:400,:]\n",
    "            print(\"train_X.shape, train_y.shape, test_X.shape, test_y.shape=\",train_X.shape, train_y.shape, test_X.shape, test_y.shape)\n",
    "            print(\"val X, val y\",val_X.shape, val_y.shape)\n",
    "            n_features = train_X.shape[2]\n",
    "            error=MODEL_Bi_LSTM(train_X,test_X,train_y,test_y,val_X,val_y,n_out,n_hours,n_features)\n",
    "#             result[i,m-1]=result[i,m-1]+error\n",
    "            result.append(error)\n",
    "            \n",
    "        \n",
    "result=np.array(result)\n",
    "np.savetxt(\"10i_\"+str(result.shape[1])+\"o_bi_LSTM_\"+str(result.shape[0])+\"i.csv\"+str(datetime.datetime.now()), result, delimiter=\",\")"
   ]
  },
  {
   "cell_type": "code",
   "execution_count": null,
   "metadata": {},
   "outputs": [],
   "source": [
    "result1= []\n",
    "out_range=[10]\n",
    "for i,k in enumerate(out_range):\n",
    "    for j in range(1,3):\n",
    "        for m in range(10,11):\n",
    "            n_out=k\n",
    "            n_hours=m\n",
    "            print(\"Number of steps predicted= \",n_out,\"Number of steps Multivariate threads ussed= \",n_hours, \"iteration number= \",j)\n",
    "            \n",
    "            train_X, train_y = split_sequences(values_train,n_hours,n_out)\n",
    "            val_X, val_y = split_sequences(values_test,n_hours,n_out)\n",
    "            print(val_X.shape,val_y.shape)\n",
    "            test_X, test_y = val_X[400:852,:,:],val_y[400:852,:]\n",
    "            val_X, val_y = val_X[0:400,:,:],val_y[0:400,:]\n",
    "            print(\"train_X.shape, train_y.shape, test_X.shape, test_y.shape=\",train_X.shape, train_y.shape, test_X.shape, test_y.shape)\n",
    "            print(\"val X, val y\",val_X.shape, val_y.shape)\n",
    "            n_features = train_X.shape[2]\n",
    "            error,ypred,yori=MODEL_EN_DC(train_X,test_X,train_y,test_y,val_X,val_y,n_out,n_hours,n_features)\n",
    "#             result[i,m-1]=result[i,m-1]+error\n",
    "            result1.append(error)\n",
    "            \n",
    "        \n",
    "result1=np.array(result1)\n",
    "print(result1.shape)\n",
    "print(result1)\n",
    "result1=result1.reshape(result1.shape[0],result1.shape[1])\n",
    "np.savetxt(\"10i_\"+str(result1.shape[1])+\"o_EN_DC_\"+str(result1.shape[0])+\"i.csv\"+str(datetime.datetime.now()), result1, delimiter=\",\")"
   ]
  },
  {
   "cell_type": "code",
   "execution_count": 22,
   "metadata": {},
   "outputs": [
    {
     "data": {
      "text/plain": [
       "(19, 10, 1)"
      ]
     },
     "execution_count": 22,
     "metadata": {},
     "output_type": "execute_result"
    }
   ],
   "source": [
    "ypred.shape"
   ]
  },
  {
   "cell_type": "code",
   "execution_count": null,
   "metadata": {},
   "outputs": [],
   "source": []
  },
  {
   "cell_type": "code",
   "execution_count": null,
   "metadata": {},
   "outputs": [],
   "source": [
    "import matplotlib.pyplot as plt\n",
    "# n_out_max=3\n",
    "xlist = np.linspace(1, n_out_max, n_out_max)\n",
    "ylist = np.linspace(1, n_out_max, n_out_max)\n",
    "X, Y = np.meshgrid(xlist, ylist)\n",
    "# Z = np.sqrt(X**2 + Y**2)\n",
    "fig,ax=plt.subplots(1,1)\n",
    "cp = ax.contourf(X, Y, r)\n",
    "fig.colorbar(cp) # Add a colorbar to a plot\n",
    "ax.set_title('Number of steps used in multivariate analysis x ')\n",
    "#ax.set_xlabel('x (cm)')\n",
    "ax.set_ylabel('Number of steps predicted y')\n",
    "plt.show()\n",
    "print(\"Normalized RMSE Test\")"
   ]
  },
  {
   "cell_type": "code",
   "execution_count": null,
   "metadata": {},
   "outputs": [],
   "source": [
    "out_range=[1]\n",
    "# result=np.zeros((len(out_range),10),dtype=np.float32)\n",
    "result1= []\n",
    "for i,k in enumerate(out_range):\n",
    "    for j in range(1,31):\n",
    "        for m in range(10,11):\n",
    "            n_out=k\n",
    "            n_hours=m\n",
    "            print(\"Number of steps predicted= \",n_out,\"Number of steps Multivariate threads ussed= \",n_hours, \"iteration number= \",j)\n",
    "            X, y = split_sequences(scaled, n_hours, n_out)\n",
    "            train_X, train_y = X[0:300,:,:], y[0:300,:]\n",
    "            val_X, val_y = X[300:330,:,:], y[300:330,:]\n",
    "            test_X, test_y = X[330:,:,:], y[330:,:]\n",
    "            print(\"train_X.shape, train_y.shape, test_X.shape, test_y.shape=\",train_X.shape, train_y.shape, test_X.shape, test_y.shape)\n",
    "            print(\"val X, val y\",val_X.shape, val_y.shape)\n",
    "            n_features = X.shape[2]\n",
    "            error=MODEL(train_X,test_X,train_y,test_y,val_X,val_y,n_out,n_hours,n_features)\n",
    "#             result[i,m-1]=result[i,m-1]+error\n",
    "            result1.append(error)\n",
    "            \n",
    "        \n",
    "result1\n",
    "\n",
    "\n",
    "\n",
    "            \n",
    "            \n",
    "            \n",
    "    \n",
    "    \n",
    "            \n",
    "            "
   ]
  },
  {
   "cell_type": "code",
   "execution_count": null,
   "metadata": {},
   "outputs": [],
   "source": []
  },
  {
   "cell_type": "code",
   "execution_count": 5,
   "metadata": {},
   "outputs": [],
   "source": [
    "import numpy as np\n",
    "import matplotlib.pyplot as plt\n",
    "import datetime\n",
    "def show_results(r,method):\n",
    "    x = datetime.datetime.now()\n",
    "    u=np.mean(r,axis=0)\n",
    "    sigma=np.std(r,axis=0)\n",
    "    lower_bar= u-1.96*(sigma/(np.sqrt(1)))\n",
    "    upper_bar= u+1.96*(sigma/(np.sqrt(1)))\n",
    "    barWidth = 0.3\n",
    "    bars1=u\n",
    "    rl= np.arange(len(bars1))+1\n",
    "    plt.bar(rl, bars1, width = barWidth, color = 'red', edgecolor = 'black', yerr=1.96*(sigma/(np.sqrt(r.shape[0]))), capsize=7, label=method+' with using 10 multivariate steps for 30 iterations')\n",
    "    plt.ylabel('mean of normalized RMSE for 30 iterations')\n",
    "    plt.xlabel('Number of steps')\n",
    "    plt.legend()\n",
    "    plt.show()\n",
    "    np.savetxt(\"10i_\"+str(r.shape[1])+\"o_\"+method+\"_\"+str(r.shape[0])+\"i\"+str(datetime.datetime.now())+\".csv\", r, delimiter=\",\")\n",
    "# show_results(r1_new)"
   ]
  },
  {
   "cell_type": "code",
   "execution_count": 10,
   "metadata": {},
   "outputs": [
    {
     "name": "stdout",
     "output_type": "stream",
     "text": [
      "(29, 10)\n"
     ]
    },
    {
     "data": {
      "image/png": "[encoded data removed]",
      "text/plain": [
       "<Figure size 432x288 with 1 Axes>"
      ]
     },
     "metadata": {
      "needs_background": "light"
     },
     "output_type": "display_data"
    }
   ],
   "source": [
    "dsgd=read_csv('results/10i_10o_FNN_sgd_30i_colab_with_full.csv')\n",
    "dSGD = dsgd.values\n",
    "print(dSGD.shape)\n",
    "show_results(dSGD,'fnn_sgd')"
   ]
  },
  {
   "cell_type": "code",
   "execution_count": 25,
   "metadata": {},
   "outputs": [
    {
     "name": "stdout",
     "output_type": "stream",
     "text": [
      "(1, 10)\n"
     ]
    },
    {
     "data": {
      "image/png": "[encoded data removed]",
      "text/plain": [
       "<Figure size 432x288 with 1 Axes>"
      ]
     },
     "metadata": {
      "needs_background": "light"
     },
     "output_type": "display_data"
    }
   ],
   "source": [
    "# dadam=read_csv('10i_10o_FNN_adam_30i.csv2020-07-27 06:17:47.538428')\n",
    "ladam=[[1687.1726 ,1686.9001 ,1684.3483, 1684.8247, 1685.0763 ,1684.6573 ,1684.4218,\n",
    " 1683.5906, 1683.5874 ,1683.9226]]\n",
    "dADAM=np.array(ladam)\n",
    "# dADAM = dadam.values\n",
    "print(dADAM.shape)\n",
    "show_results(dADAM,'fnn_ADAM')\n"
   ]
  },
  {
   "cell_type": "code",
   "execution_count": 67,
   "metadata": {},
   "outputs": [
    {
     "name": "stdout",
     "output_type": "stream",
     "text": [
      "9.737489013671875000e+02     831.492899\n",
      "1.210776489257812500e+03    1098.416506\n",
      "1.396545654296875000e+03    1328.846574\n",
      "1.629268066406250000e+03    1479.148566\n",
      "1.761837646484375000e+03    1647.483186\n",
      "1.906840820312500000e+03    1830.260692\n",
      "1.996497192382812500e+03    1945.061860\n",
      "2.214586669921875000e+03    2026.655627\n",
      "2.273685058593750000e+03    2069.030753\n",
      "2.274079101562500000e+03    2070.632467\n",
      "dtype: float64\n",
      "9.737489013671875000e+02    172.169254\n",
      "1.210776489257812500e+03    238.528065\n",
      "1.396545654296875000e+03    341.459996\n",
      "1.629268066406250000e+03    441.491785\n",
      "1.761837646484375000e+03    537.957985\n",
      "1.906840820312500000e+03    637.726564\n",
      "1.996497192382812500e+03    779.544731\n",
      "2.214586669921875000e+03    829.673226\n",
      "2.273685058593750000e+03    826.639030\n",
      "2.274079101562500000e+03    876.282741\n",
      "dtype: float64\n"
     ]
    },
    {
     "data": {
      "image/png": "[encoded data removed]",
      "text/plain": [
       "<Figure size 432x288 with 1 Axes>"
      ]
     },
     "metadata": {
      "needs_background": "light"
     },
     "output_type": "display_data"
    }
   ],
   "source": [
    "# dlstm=read_csv('10i_10o_LSTM_30i.csv2020-05-10 11:03:02_243465.csv')\n",
    "# dLSTM = dlstm.values\n",
    "dLSTM=read_csv('results/10i_10o_LSTM_30i2020-07-30_colab_with_full.csv')\n",
    "print(np.mean(dLSTM))\n",
    "print(np.std(dLSTM))\n",
    "show_results(dLSTM,'LSTM')"
   ]
  },
  {
   "cell_type": "code",
   "execution_count": 7,
   "metadata": {},
   "outputs": [
    {
     "name": "stdout",
     "output_type": "stream",
     "text": [
      "(9, 10)\n"
     ]
    },
    {
     "data": {
      "image/png": "[encoded data removed]",
      "text/plain": [
       "<Figure size 432x288 with 1 Axes>"
      ]
     },
     "metadata": {
      "needs_background": "light"
     },
     "output_type": "display_data"
    }
   ],
   "source": [
    "# den=read_csv('10i_10o_EN_DC_30i.csv2020-05-10 15:40:39_077980.csv')\n",
    "lEN=[[1014.09717\n",
    "   ,1096.8276   \n",
    "   ,1279.9148   \n",
    "   ,1382.6143   \n",
    "   ,1512.9702   \n",
    "   ,1572.573    \n",
    "   ,1600.8066   \n",
    "   ,1588.4052   \n",
    "   ,1612.1232   \n",
    "   ,1616.752    ]\n",
    "\n",
    "  ,[ 757.4399   \n",
    "   , 930.22424  \n",
    "   ,1036.9641   \n",
    "   ,1109.3658   \n",
    "   ,1133.0293   \n",
    "   ,1150.7404   \n",
    "   ,1158.7914   \n",
    "   ,1166.9806   \n",
    "   ,1185.018    \n",
    "   ,1190.5941   ]\n",
    "\n",
    "  ,[ 775.08636  \n",
    "   , 942.4178   \n",
    "   ,1010.3597   \n",
    "   ,1034.468    \n",
    "   ,1058.1713   \n",
    "   ,1063.81     \n",
    "   ,1068.8236   \n",
    "   ,1100.0187   \n",
    "   ,1115.5554   \n",
    "   ,1128.249    ]\n",
    "\n",
    "  ,[1018.1749   \n",
    "   ,1563.2941   \n",
    "   ,2030.67     \n",
    "   ,2352.331    \n",
    "   ,2661.1892   \n",
    "   ,2906.9456   \n",
    "   ,3111.359    \n",
    "   ,3356.0059   \n",
    "   ,3626.9895   \n",
    "   ,3805.0383   ]\n",
    "\n",
    "  ,[ 756.4015   \n",
    "   ,1043.1024   \n",
    "   ,1247.2255   \n",
    "   ,1423.5332   \n",
    "   ,1487.0222   \n",
    "   ,1534.9841   \n",
    "   ,1565.8169   \n",
    "   ,1581.6118   \n",
    "   ,1591.4827   \n",
    "   ,1609.5292   ]\n",
    "\n",
    "  ,[ 829.8609   \n",
    "   ,1039.5664   \n",
    "   ,1176.5208   \n",
    "   ,1239.3933   \n",
    "   ,1308.8772   \n",
    "   ,1313.2029   \n",
    "   ,1332.2471   \n",
    "   ,1330.4106   \n",
    "   ,1351.6486   \n",
    "   ,1344.2048   ]\n",
    "\n",
    "  ,[ 888.4945   \n",
    "   ,1104.9935   \n",
    "   ,1189.066    \n",
    "   ,1213.6727   \n",
    "   ,1325.7197   \n",
    "   ,1351.2096   \n",
    "   ,1352.8827   \n",
    "   ,1390.7533   \n",
    "   ,1384.2114   \n",
    "   ,1389.5021   ]\n",
    "\n",
    "  ,[ 728.02167  \n",
    "   ,1132.3594   \n",
    "   ,1609.9431   \n",
    "   ,2213.8728   \n",
    "   ,2719.472    \n",
    "   ,3163.1084   \n",
    "   ,3365.4978   \n",
    "   ,3516.4995   \n",
    "   ,3627.315    \n",
    "   ,3698.2275   ]\n",
    "\n",
    "  ,[ 749.18286  \n",
    "   ,1090.0675   \n",
    "   ,1309.3542   \n",
    "   ,1423.8892   \n",
    "   ,1514.3691   \n",
    "   ,1572.8219   \n",
    "   ,1577.1084   \n",
    "   ,1606.3649   \n",
    "   ,1640.387    \n",
    "   ,1662.8898]] \n",
    "\n",
    "\n",
    "dEN=np.array(lEN)\n",
    "# dEN = den.values\n",
    "print(dEN.shape)\n",
    "show_results(dEN,'Encoder-Decoder')"
   ]
  },
  {
   "cell_type": "code",
   "execution_count": 26,
   "metadata": {},
   "outputs": [
    {
     "name": "stdout",
     "output_type": "stream",
     "text": [
      "(22, 10)\n"
     ]
    },
    {
     "data": {
      "image/png": "[encoded data removed]",
      "text/plain": [
       "<Figure size 432x288 with 1 Axes>"
      ]
     },
     "metadata": {
      "needs_background": "light"
     },
     "output_type": "display_data"
    }
   ],
   "source": [
    "# dbi=read_csv('10i_10o_bi_LSTM_30i.csv2020-05-10 12:29:07_591213.csv')\n",
    "# dBI = dbi.values\n",
    "lBI=[[ 969.8882 ,1277.1731, 1468.2672 ,1460.928,  1623.5724 ,1763.8987, 1722.036,\n",
    " 1803.5625, 1866.8588, 1810.4342],\n",
    " [ 722.07574  ,907.8592  , 979.9934  , 989.2812 , 1046.334 ,  1075.9742,\n",
    " 1070.3185 , 1091.0967 , 1112.3413 , 1115.5602 ],\n",
    " [ 801.807  ,1034.9629 ,1161.4736, 1143.9906, 1209.6346 ,1305.8185, 1254.114,\n",
    " 1274.3093 ,1290.1375,1268.6793],\n",
    "[1028.353,1204.5212,1479.6134,1431.6039,1633.4913,1922.2136,1948.435\n",
    ",1985.9891,2140.9133,2122.976],\n",
    "[1640.4698,1639.1353,1635.2411,1632.848, 1590.988, 1560.6129,1545.1003\n",
    ",1518.921, 1497.6561,1486.8616],\n",
    " [ 803.1738, 950.8526, 973.8418,1005.184 ,1068.7042,1067.9929,1085.2499\n",
    ",1107.6813,1073.0375,1044.332 ],\n",
    " [ 622.2253,884.546, 1078.7385,1064.9238,1162.4537,1252.4735,1217.9684\n",
    ",1252.9532,1303.0397,1276.6715],\n",
    " [ 710.741,  1013.4251, 1342.9054 ,1404.4167, 1698.2084, 1915.8339 ,1913.4025,\n",
    " 2021.1522, 2025.5703, 1920.388 ],\n",
    " [ 591.4624  , 890.172  , 1045.6573,   988.75525, 1081.7245 , 1156.774,\n",
    " 1120.539  , 1164.5605  ,1182.0413 , 1154.1305 ],\n",
    " [ 698.86774 , 898.51746 ,1082.5911 , 1082.691  , 1208.7532 , 1332.6791,\n",
    " 1315.3162 , 1370.0671 , 1423.0651 , 1388.4113 ],\n",
    " [ 999.38367, 1013.37823 ,1022.23456 ,1045.7749 , 1059.6359 , 1074.2949,\n",
    " 1091.809 ,  1120.1884 , 1106.2554 , 1143.2104 ],\n",
    " [ 968.32666 ,1159.3184  ,1506.1672 , 1663.4293 , 1962.8079 , 2393.0796,\n",
    " 2602.024 ,  2801.4094 , 3021.4868,  2895.3755 ],\n",
    " [1335.7046 ,1515.6743 ,1647.6761, 1637.5294, 1726.7198 ,1741.4196 ,1723.0867,\n",
    " 1746.9054 ,1694.588 , 1703.4254],\n",
    " [1100.119 , 1190.7557 ,1201.6648, 1201.4407, 1229.0417 ,1248.3105 ,1241.4988,\n",
    " 1239.6946, 1244.5979, 1251.8176],\n",
    " [ 972.96387, 1260.2777 , 1630.9681 , 1739.5829 , 2401.7537 , 2788.5112,\n",
    " 2800.4077 , 3072.7712 , 3211.6577 , 3189.779  ]\n",
    " ,[ 588.7389  ,845.2258 , 984.9668 ,1009.2586, 1128.3372 ,1195.3469, 1210.5182,\n",
    " 1233.4716, 1253.8915, 1243.0809],\n",
    " [1643.3947 ,1643.8   , 1619.8284, 1622.4832, 1605.4521 ,1604.2609, 1623.4614,\n",
    " 1627.3331, 1583.3892, 1562.5248],\n",
    " [ 629.9717 ,  908.1765 , 1014.37274, 1110.196 ,  1276.8256  ,1556.8937,\n",
    " 1625.3396,  1802.9414,  1817.1638 , 1864.8885 ],\n",
    " [ 648.41754 , 990.9563 , 1217.7239 , 1223.3944 , 1408.6141 , 1533.6177,\n",
    " 1518.2731,  1583.1321 , 1630.8342 , 1579.0361 ],\n",
    " [ 946.0659, 1064.5934, 1110.7546, 1124.073 , 1166.2177, 1181.4332 ,1171.2883,\n",
    " 1178.2885 ,1190.9132 ,1191.2386],\n",
    "[ 695.27234 , 941.598 ,  1154.9465,  1214.4712 , 1387.8839,  1536.0145,\n",
    " 1558.7074 , 1673.5553 , 1744.5549  ,1712.1752 ],\n",
    "[ 858.5309 , 1014.39746 ,1080.8525 , 1096.9081 , 1139.7615 , 1152.6874,\n",
    " 1140.2477,  1150.6006  ,1164.087  , 1175.7429 ]]\n",
    " \n",
    "dBI=np.array(lBI)\n",
    "print(dBI.shape)\n",
    "show_results(dBI,'Bi directional LSTM')"
   ]
  },
  {
   "cell_type": "code",
   "execution_count": 24,
   "metadata": {},
   "outputs": [
    {
     "name": "stdout",
     "output_type": "stream",
     "text": [
      "(1, 10)\n"
     ]
    },
    {
     "data": {
      "image/png": "[encoded data removed]",
      "text/plain": [
       "<Figure size 432x288 with 1 Axes>"
      ]
     },
     "metadata": {
      "needs_background": "light"
     },
     "output_type": "display_data"
    }
   ],
   "source": [
    "def show_results_Combined(r1,r2,r3,r4):\n",
    "    x = datetime.datetime.now()\n",
    "    print(r1.shape)\n",
    "    u1=np.mean(r1,axis=0)\n",
    "    u2=np.mean(r2,axis=0)\n",
    "    u3=np.mean(r3,axis=0)\n",
    "    u4=np.mean(r4,axis=0)\n",
    "#     u5=np.mean(r5,axis=0)\n",
    "    sigma1=np.std(r1,axis=0)\n",
    "    sigma2=np.std(r2,axis=0)\n",
    "    sigma3=np.std(r3,axis=0)\n",
    "    sigma4=np.std(r4,axis=0)\n",
    "#     sigma5=np.std(r5,axis=0)\n",
    "#     lower_bar= u-1.96*(sigma/(np.sqrt(r.shape[0])))\n",
    "#     upper_bar= u+1.96*(sigma/(np.sqrt(r.shape[0])))\n",
    "    barWidth = 0.17\n",
    "    bars1=u1\n",
    "    bars2=u2\n",
    "    bars3=u3\n",
    "    bars4=u4\n",
    "#     bars5=u5\n",
    "    ra1= np.arange(len(bars1))+1\n",
    "    ra2 = [y + barWidth for y in ra1]\n",
    "    ra3 = [y + barWidth for y in ra2]\n",
    "    ra4 = [y + barWidth for y in ra3]\n",
    "#     ra5 = [y + barWidth for y in ra4]\n",
    "\n",
    "#     plt.bar(ra1, bars1, width = barWidth, color = 'red', edgecolor = 'black', yerr=1.96*(sigma1/(np.sqrt(r1.shape[0]))), capsize=7, label='FNN_Sgd')\n",
    "    plt.bar(ra1, bars1, width = barWidth, color = 'blue', edgecolor = 'black', yerr=1.96*(sigma1/(np.sqrt(r1.shape[0]))), capsize=7, label='FNN_ADAM')\n",
    "    plt.bar(ra2, bars2, width = barWidth, color = 'yellow', edgecolor = 'black', yerr=1.96*(sigma2/(np.sqrt(r2.shape[0]))), capsize=7, label='LSTM')\n",
    "    plt.bar(ra3, bars3, width = barWidth, color = 'green', edgecolor = 'black', yerr=1.96*(sigma3/(np.sqrt(r3.shape[0]))), capsize=7, label='Bi LSTM')\n",
    "    plt.bar(ra4, bars4, width = barWidth, color = 'red', edgecolor = 'black', yerr=1.96*(sigma4/(np.sqrt(r4.shape[0]))), capsize=7, label='Encoder Decoder LSTM')\n",
    "    \n",
    "\n",
    "    plt.ylabel('mean of RMSE for 30 iterations')\n",
    "    plt.xlabel('Number of steps')\n",
    "    plt.legend()\n",
    "    plt.show()\n",
    "#     np.savetxt(\"10i_\"+str(r.shape[1])+\"o_\"+method+\"_\"+str(r.shape[0])+\"i\"+str(datetime.datetime.now())+\".csv\", r, delimiter=\",\")\n",
    "show_results_Combined(dADAM,dLSTM,dBI,dEN)"
   ]
  },
  {
   "cell_type": "code",
   "execution_count": null,
   "metadata": {},
   "outputs": [],
   "source": [
    "def show_results_Combined(r1,r2,r3,r4):\n",
    "    x = datetime.datetime.now()\n",
    "    print(r1.shape)\n",
    "    u1=np.mean(r1,axis=0)\n",
    "    u2=np.mean(r2,axis=0)\n",
    "    u3=np.mean(r3,axis=0)\n",
    "    u4=np.mean(r4,axis=0)\n",
    "#     u5=np.mean(r5,axis=0)\n",
    "    sigma1=np.std(r1,axis=0)\n",
    "    sigma2=np.std(r2,axis=0)\n",
    "    sigma3=np.std(r3,axis=0)\n",
    "    sigma4=np.std(r4,axis=0)\n",
    "#     sigma5=np.std(r5,axis=0)\n",
    "#     lower_bar= u-1.96*(sigma/(np.sqrt(r.shape[0])))\n",
    "#     upper_bar= u+1.96*(sigma/(np.sqrt(r.shape[0])))\n",
    "    barWidth = 0.17\n",
    "#     bars1=u1\n",
    "#     bars2=u2\n",
    "#     bars3=u3\n",
    "#     bars4=u4\n",
    "# #     bars5=u5\n",
    "#     ra1= np.arange(len(bars1))+1\n",
    "#     ra2 = [y + barWidth for y in ra1]\n",
    "#     ra3 = [y + barWidth for y in ra2]\n",
    "#     ra4 = [y + barWidth for y in ra3]\n",
    "# #     ra5 = [y + barWidth for y in ra4]\n",
    "\n",
    "# #     plt.bar(ra1, bars1, width = barWidth, color = 'red', edgecolor = 'black', yerr=1.96*(sigma1/(np.sqrt(r1.shape[0]))), capsize=7, label='FNN_Sgd')\n",
    "#     plt.bar(ra1, bars1, width = barWidth, color = 'blue', edgecolor = 'black', yerr=1.96*(sigma1/(np.sqrt(r1.shape[0]))), capsize=7, label='FNN_ADAM')\n",
    "#     plt.bar(ra2, bars2, width = barWidth, color = 'yellow', edgecolor = 'black', yerr=1.96*(sigma2/(np.sqrt(r2.shape[0]))), capsize=7, label='LSTM')\n",
    "#     plt.bar(ra3, bars3, width = barWidth, color = 'green', edgecolor = 'black', yerr=1.96*(sigma3/(np.sqrt(r3.shape[0]))), capsize=7, label='Bi LSTM')\n",
    "#     plt.bar(ra4, bars4, width = barWidth, color = 'red', edgecolor = 'black', yerr=1.96*(sigma4/(np.sqrt(r4.shape[0]))), capsize=7, label='Encoder Decoder LSTM')\n",
    "    \n",
    "\n",
    "#     plt.ylabel('mean of RMSE for 30 iterations')\n",
    "#     plt.xlabel('Number of steps')\n",
    "#     plt.legend()\n",
    "#     plt.show()\n",
    "#     np.savetxt(\"10i_\"+str(r.shape[1])+\"o_\"+method+\"_\"+str(r.shape[0])+\"i\"+str(datetime.datetime.now())+\".csv\", r, delimiter=\",\")\n",
    "show_results_Combined(dADAM,dLSTM,dBI,dEN)"
   ]
  },
  {
   "cell_type": "code",
   "execution_count": 68,
   "metadata": {
    "scrolled": true
   },
   "outputs": [
    {
     "name": "stdout",
     "output_type": "stream",
     "text": [
      "[ 831.492899 1098.416506 1328.846574 1479.148566 1647.483186 1830.260692\n",
      " 1945.06186  2026.655627 2069.030753 2070.632467]\n",
      "[ 907.99789818 1102.24166591 1247.2945     1267.87109773 1400.76888182\n",
      " 1516.37006364 1522.68825909 1582.75384091 1617.18547727 1595.48815909]\n"
     ]
    },
    {
     "data": {
      "application/vnd.plotly.v1+json": {
       "config": {
        "plotlyServerURL": "https://plot.ly"
       },
       "data": [
        {
         "error_y": {
          "array": [
           0,
           0,
           0,
           0,
           0,
           0,
           0,
           0,
           0,
           0
          ],
          "type": "data"
         },
         "marker": {
          "color": "rgb(55, 83, 109)"
         },
         "name": "ADAM",
         "type": "bar",
         "x": [
          1,
          2,
          3,
          4,
          5,
          6,
          7,
          8,
          9,
          10
         ],
         "y": [
          1687.1726,
          1686.9001,
          1684.3483,
          1684.8247,
          1685.0763,
          1684.6573,
          1684.4218,
          1683.5906,
          1683.5874,
          1683.9226
         ]
        },
        {
         "error_y": {
          "array": [
           172.169254,
           238.528065,
           341.459996,
           441.491785,
           537.957985,
           637.726564,
           779.544731,
           829.673226,
           826.63903,
           876.282741
          ],
          "type": "data"
         },
         "marker": {
          "color": "rgb(200,125,150)"
         },
         "name": "LSTM",
         "type": "bar",
         "x": [
          1,
          2,
          3,
          4,
          5,
          6,
          7,
          8,
          9,
          10
         ],
         "y": [
          831.492899,
          1098.416506,
          1328.846574,
          1479.148566,
          1647.483186,
          1830.260692,
          1945.06186,
          2026.655627,
          2069.030753,
          2070.632467
         ]
        },
        {
         "error_y": {
          "array": [
           107.03501517771312,
           175.170926466175,
           299.97044520599025,
           444.6531050970483,
           583.7804821437372,
           716.6806860894035,
           794.3289562281716,
           866.3426302297364,
           937.1772292760293,
           985.3801177158724
          ],
          "type": "data"
         },
         "marker": {
          "color": "rgb(13, 255, 20)"
         },
         "name": "Encoder Decoder",
         "type": "bar",
         "x": [
          1,
          2,
          3,
          4,
          5,
          6,
          7,
          8,
          9,
          10
         ],
         "y": [
          907.9978981818184,
          1102.2416659090914,
          1247.2944999999997,
          1267.8710977272729,
          1400.768881818182,
          1516.3700636363637,
          1522.6882590909088,
          1582.7538409090905,
          1617.1854772727274,
          1595.488159090909
         ]
        },
        {
         "error_y": {
          "array": [
           297.62602758924095,
           233.11362895057212,
           239.04078235519594,
           249.8065845747431,
           338.52210813035896,
           432.8538594320159,
           458.82670598640925,
           517.5997171087921,
           564.0009860576857,
           545.1923806407244
          ],
          "type": "data"
         },
         "marker": {
          "color": "rgb(255, 10, 10)"
         },
         "name": "Bi Directional ",
         "type": "bar",
         "x": [
          1,
          2,
          3,
          4,
          5,
          6,
          7,
          8,
          9,
          10
         ],
         "y": [
          835.1955288888888,
          1104.761437777778,
          1321.1131333333333,
          1488.1267,
          1635.6466888888888,
          1736.5995444444443,
          1792.5926111111112,
          1848.5611666666668,
          1903.858977777778,
          1938.3318666666664
         ]
        }
       ],
       "layout": {
        "bargap": 0.5,
        "bargroupgap": 0.05,
        "barmode": "group",
        "legend": {
         "bgcolor": "rgba(255, 255, 255, 0)",
         "bordercolor": "rgba(255, 255, 255, 0)",
         "x": 0,
         "y": 1
        },
        "template": {
         "data": {
          "bar": [
           {
            "error_x": {
             "color": "#2a3f5f"
            },
            "error_y": {
             "color": "#2a3f5f"
            },
            "marker": {
             "line": {
              "color": "#E5ECF6",
              "width": 0.5
             }
            },
            "type": "bar"
           }
          ],
          "barpolar": [
           {
            "marker": {
             "line": {
              "color": "#E5ECF6",
              "width": 0.5
             }
            },
            "type": "barpolar"
           }
          ],
          "carpet": [
           {
            "aaxis": {
             "endlinecolor": "#2a3f5f",
             "gridcolor": "white",
             "linecolor": "white",
             "minorgridcolor": "white",
             "startlinecolor": "#2a3f5f"
            },
            "baxis": {
             "endlinecolor": "#2a3f5f",
             "gridcolor": "white",
             "linecolor": "white",
             "minorgridcolor": "white",
             "startlinecolor": "#2a3f5f"
            },
            "type": "carpet"
           }
          ],
          "choropleth": [
           {
            "colorbar": {
             "outlinewidth": 0,
             "ticks": ""
            },
            "type": "choropleth"
           }
          ],
          "contour": [
           {
            "colorbar": {
             "outlinewidth": 0,
             "ticks": ""
            },
            "colorscale": [
             [
              0,
              "#0d0887"
             ],
             [
              0.1111111111111111,
              "#46039f"
             ],
             [
              0.2222222222222222,
              "#7201a8"
             ],
             [
              0.3333333333333333,
              "#9c179e"
             ],
             [
              0.4444444444444444,
              "#bd3786"
             ],
             [
              0.5555555555555556,
              "#d8576b"
             ],
             [
              0.6666666666666666,
              "#ed7953"
             ],
             [
              0.7777777777777778,
              "#fb9f3a"
             ],
             [
              0.8888888888888888,
              "#fdca26"
             ],
             [
              1,
              "#f0f921"
             ]
            ],
            "type": "contour"
           }
          ],
          "contourcarpet": [
           {
            "colorbar": {
             "outlinewidth": 0,
             "ticks": ""
            },
            "type": "contourcarpet"
           }
          ],
          "heatmap": [
           {
            "colorbar": {
             "outlinewidth": 0,
             "ticks": ""
            },
            "colorscale": [
             [
              0,
              "#0d0887"
             ],
             [
              0.1111111111111111,
              "#46039f"
             ],
             [
              0.2222222222222222,
              "#7201a8"
             ],
             [
              0.3333333333333333,
              "#9c179e"
             ],
             [
              0.4444444444444444,
              "#bd3786"
             ],
             [
              0.5555555555555556,
              "#d8576b"
             ],
             [
              0.6666666666666666,
              "#ed7953"
             ],
             [
              0.7777777777777778,
              "#fb9f3a"
             ],
             [
              0.8888888888888888,
              "#fdca26"
             ],
             [
              1,
              "#f0f921"
             ]
            ],
            "type": "heatmap"
           }
          ],
          "heatmapgl": [
           {
            "colorbar": {
             "outlinewidth": 0,
             "ticks": ""
            },
            "colorscale": [
             [
              0,
              "#0d0887"
             ],
             [
              0.1111111111111111,
              "#46039f"
             ],
             [
              0.2222222222222222,
              "#7201a8"
             ],
             [
              0.3333333333333333,
              "#9c179e"
             ],
             [
              0.4444444444444444,
              "#bd3786"
             ],
             [
              0.5555555555555556,
              "#d8576b"
             ],
             [
              0.6666666666666666,
              "#ed7953"
             ],
             [
              0.7777777777777778,
              "#fb9f3a"
             ],
             [
              0.8888888888888888,
              "#fdca26"
             ],
             [
              1,
              "#f0f921"
             ]
            ],
            "type": "heatmapgl"
           }
          ],
          "histogram": [
           {
            "marker": {
             "colorbar": {
              "outlinewidth": 0,
              "ticks": ""
             }
            },
            "type": "histogram"
           }
          ],
          "histogram2d": [
           {
            "colorbar": {
             "outlinewidth": 0,
             "ticks": ""
            },
            "colorscale": [
             [
              0,
              "#0d0887"
             ],
             [
              0.1111111111111111,
              "#46039f"
             ],
             [
              0.2222222222222222,
              "#7201a8"
             ],
             [
              0.3333333333333333,
              "#9c179e"
             ],
             [
              0.4444444444444444,
              "#bd3786"
             ],
             [
              0.5555555555555556,
              "#d8576b"
             ],
             [
              0.6666666666666666,
              "#ed7953"
             ],
             [
              0.7777777777777778,
              "#fb9f3a"
             ],
             [
              0.8888888888888888,
              "#fdca26"
             ],
             [
              1,
              "#f0f921"
             ]
            ],
            "type": "histogram2d"
           }
          ],
          "histogram2dcontour": [
           {
            "colorbar": {
             "outlinewidth": 0,
             "ticks": ""
            },
            "colorscale": [
             [
              0,
              "#0d0887"
             ],
             [
              0.1111111111111111,
              "#46039f"
             ],
             [
              0.2222222222222222,
              "#7201a8"
             ],
             [
              0.3333333333333333,
              "#9c179e"
             ],
             [
              0.4444444444444444,
              "#bd3786"
             ],
             [
              0.5555555555555556,
              "#d8576b"
             ],
             [
              0.6666666666666666,
              "#ed7953"
             ],
             [
              0.7777777777777778,
              "#fb9f3a"
             ],
             [
              0.8888888888888888,
              "#fdca26"
             ],
             [
              1,
              "#f0f921"
             ]
            ],
            "type": "histogram2dcontour"
           }
          ],
          "mesh3d": [
           {
            "colorbar": {
             "outlinewidth": 0,
             "ticks": ""
            },
            "type": "mesh3d"
           }
          ],
          "parcoords": [
           {
            "line": {
             "colorbar": {
              "outlinewidth": 0,
              "ticks": ""
             }
            },
            "type": "parcoords"
           }
          ],
          "pie": [
           {
            "automargin": true,
            "type": "pie"
           }
          ],
          "scatter": [
           {
            "marker": {
             "colorbar": {
              "outlinewidth": 0,
              "ticks": ""
             }
            },
            "type": "scatter"
           }
          ],
          "scatter3d": [
           {
            "line": {
             "colorbar": {
              "outlinewidth": 0,
              "ticks": ""
             }
            },
            "marker": {
             "colorbar": {
              "outlinewidth": 0,
              "ticks": ""
             }
            },
            "type": "scatter3d"
           }
          ],
          "scattercarpet": [
           {
            "marker": {
             "colorbar": {
              "outlinewidth": 0,
              "ticks": ""
             }
            },
            "type": "scattercarpet"
           }
          ],
          "scattergeo": [
           {
            "marker": {
             "colorbar": {
              "outlinewidth": 0,
              "ticks": ""
             }
            },
            "type": "scattergeo"
           }
          ],
          "scattergl": [
           {
            "marker": {
             "colorbar": {
              "outlinewidth": 0,
              "ticks": ""
             }
            },
            "type": "scattergl"
           }
          ],
          "scattermapbox": [
           {
            "marker": {
             "colorbar": {
              "outlinewidth": 0,
              "ticks": ""
             }
            },
            "type": "scattermapbox"
           }
          ],
          "scatterpolar": [
           {
            "marker": {
             "colorbar": {
              "outlinewidth": 0,
              "ticks": ""
             }
            },
            "type": "scatterpolar"
           }
          ],
          "scatterpolargl": [
           {
            "marker": {
             "colorbar": {
              "outlinewidth": 0,
              "ticks": ""
             }
            },
            "type": "scatterpolargl"
           }
          ],
          "scatterternary": [
           {
            "marker": {
             "colorbar": {
              "outlinewidth": 0,
              "ticks": ""
             }
            },
            "type": "scatterternary"
           }
          ],
          "surface": [
           {
            "colorbar": {
             "outlinewidth": 0,
             "ticks": ""
            },
            "colorscale": [
             [
              0,
              "#0d0887"
             ],
             [
              0.1111111111111111,
              "#46039f"
             ],
             [
              0.2222222222222222,
              "#7201a8"
             ],
             [
              0.3333333333333333,
              "#9c179e"
             ],
             [
              0.4444444444444444,
              "#bd3786"
             ],
             [
              0.5555555555555556,
              "#d8576b"
             ],
             [
              0.6666666666666666,
              "#ed7953"
             ],
             [
              0.7777777777777778,
              "#fb9f3a"
             ],
             [
              0.8888888888888888,
              "#fdca26"
             ],
             [
              1,
              "#f0f921"
             ]
            ],
            "type": "surface"
           }
          ],
          "table": [
           {
            "cells": {
             "fill": {
              "color": "#EBF0F8"
             },
             "line": {
              "color": "white"
             }
            },
            "header": {
             "fill": {
              "color": "#C8D4E3"
             },
             "line": {
              "color": "white"
             }
            },
            "type": "table"
           }
          ]
         },
         "layout": {
          "annotationdefaults": {
           "arrowcolor": "#2a3f5f",
           "arrowhead": 0,
           "arrowwidth": 1
          },
          "coloraxis": {
           "colorbar": {
            "outlinewidth": 0,
            "ticks": ""
           }
          },
          "colorscale": {
           "diverging": [
            [
             0,
             "#8e0152"
            ],
            [
             0.1,
             "#c51b7d"
            ],
            [
             0.2,
             "#de77ae"
            ],
            [
             0.3,
             "#f1b6da"
            ],
            [
             0.4,
             "#fde0ef"
            ],
            [
             0.5,
             "#f7f7f7"
            ],
            [
             0.6,
             "#e6f5d0"
            ],
            [
             0.7,
             "#b8e186"
            ],
            [
             0.8,
             "#7fbc41"
            ],
            [
             0.9,
             "#4d9221"
            ],
            [
             1,
             "#276419"
            ]
           ],
           "sequential": [
            [
             0,
             "#0d0887"
            ],
            [
             0.1111111111111111,
             "#46039f"
            ],
            [
             0.2222222222222222,
             "#7201a8"
            ],
            [
             0.3333333333333333,
             "#9c179e"
            ],
            [
             0.4444444444444444,
             "#bd3786"
            ],
            [
             0.5555555555555556,
             "#d8576b"
            ],
            [
             0.6666666666666666,
             "#ed7953"
            ],
            [
             0.7777777777777778,
             "#fb9f3a"
            ],
            [
             0.8888888888888888,
             "#fdca26"
            ],
            [
             1,
             "#f0f921"
            ]
           ],
           "sequentialminus": [
            [
             0,
             "#0d0887"
            ],
            [
             0.1111111111111111,
             "#46039f"
            ],
            [
             0.2222222222222222,
             "#7201a8"
            ],
            [
             0.3333333333333333,
             "#9c179e"
            ],
            [
             0.4444444444444444,
             "#bd3786"
            ],
            [
             0.5555555555555556,
             "#d8576b"
            ],
            [
             0.6666666666666666,
             "#ed7953"
            ],
            [
             0.7777777777777778,
             "#fb9f3a"
            ],
            [
             0.8888888888888888,
             "#fdca26"
            ],
            [
             1,
             "#f0f921"
            ]
           ]
          },
          "colorway": [
           "#636efa",
           "#EF553B",
           "#00cc96",
           "#ab63fa",
           "#FFA15A",
           "#19d3f3",
           "#FF6692",
           "#B6E880",
           "#FF97FF",
           "#FECB52"
          ],
          "font": {
           "color": "#2a3f5f"
          },
          "geo": {
           "bgcolor": "white",
           "lakecolor": "white",
           "landcolor": "#E5ECF6",
           "showlakes": true,
           "showland": true,
           "subunitcolor": "white"
          },
          "hoverlabel": {
           "align": "left"
          },
          "hovermode": "closest",
          "mapbox": {
           "style": "light"
          },
          "paper_bgcolor": "white",
          "plot_bgcolor": "#E5ECF6",
          "polar": {
           "angularaxis": {
            "gridcolor": "white",
            "linecolor": "white",
            "ticks": ""
           },
           "bgcolor": "#E5ECF6",
           "radialaxis": {
            "gridcolor": "white",
            "linecolor": "white",
            "ticks": ""
           }
          },
          "scene": {
           "xaxis": {
            "backgroundcolor": "#E5ECF6",
            "gridcolor": "white",
            "gridwidth": 2,
            "linecolor": "white",
            "showbackground": true,
            "ticks": "",
            "zerolinecolor": "white"
           },
           "yaxis": {
            "backgroundcolor": "#E5ECF6",
            "gridcolor": "white",
            "gridwidth": 2,
            "linecolor": "white",
            "showbackground": true,
            "ticks": "",
            "zerolinecolor": "white"
           },
           "zaxis": {
            "backgroundcolor": "#E5ECF6",
            "gridcolor": "white",
            "gridwidth": 2,
            "linecolor": "white",
            "showbackground": true,
            "ticks": "",
            "zerolinecolor": "white"
           }
          },
          "shapedefaults": {
           "line": {
            "color": "#2a3f5f"
           }
          },
          "ternary": {
           "aaxis": {
            "gridcolor": "white",
            "linecolor": "white",
            "ticks": ""
           },
           "baxis": {
            "gridcolor": "white",
            "linecolor": "white",
            "ticks": ""
           },
           "bgcolor": "#E5ECF6",
           "caxis": {
            "gridcolor": "white",
            "linecolor": "white",
            "ticks": ""
           }
          },
          "title": {
           "x": 0.05
          },
          "xaxis": {
           "automargin": true,
           "gridcolor": "white",
           "linecolor": "white",
           "ticks": "",
           "title": {
            "standoff": 15
           },
           "zerolinecolor": "white",
           "zerolinewidth": 2
          },
          "yaxis": {
           "automargin": true,
           "gridcolor": "white",
           "linecolor": "white",
           "ticks": "",
           "title": {
            "standoff": 15
           },
           "zerolinecolor": "white",
           "zerolinewidth": 2
          }
         }
        },
        "title": {
         "text": "mean of RMSE for 30 iterations"
        },
        "xaxis": {
         "tickfont": {
          "size": 14
         }
        },
        "yaxis": {
         "tickfont": {
          "size": 14
         },
         "title": {
          "font": {
           "size": 16
          },
          "text": "RMSE"
         }
        }
       }
      },
      "text/html": [
       "<div>\n",
       "        \n",
       "        \n",
       "            <div id=\"53df1a3a-7d19-4357-9301-e5e0f18bf0e8\" class=\"plotly-graph-div\" style=\"height:525px; width:100%;\"></div>\n",
       "            <script type=\"text/javascript\">\n",
       "                require([\"plotly\"], function(Plotly) {\n",
       "                    window.PLOTLYENV=window.PLOTLYENV || {};\n",
       "                    \n",
       "                if (document.getElementById(\"53df1a3a-7d19-4357-9301-e5e0f18bf0e8\")) {\n",
       "                    Plotly.newPlot(\n",
       "                        '53df1a3a-7d19-4357-9301-e5e0f18bf0e8',\n",
       "                        [{\"error_y\": {\"array\": [0.0, 0.0, 0.0, 0.0, 0.0, 0.0, 0.0, 0.0, 0.0, 0.0], \"type\": \"data\"}, \"marker\": {\"color\": \"rgb(55, 83, 109)\"}, \"name\": \"ADAM\", \"type\": \"bar\", \"x\": [1, 2, 3, 4, 5, 6, 7, 8, 9, 10], \"y\": [1687.1726, 1686.9001, 1684.3483, 1684.8247, 1685.0763, 1684.6573, 1684.4218, 1683.5906, 1683.5874, 1683.9226]}, {\"error_y\": {\"array\": [172.169254, 238.528065, 341.459996, 441.491785, 537.957985, 637.726564, 779.544731, 829.673226, 826.63903, 876.282741], \"type\": \"data\"}, \"marker\": {\"color\": \"rgb(200,125,150)\"}, \"name\": \"LSTM\", \"type\": \"bar\", \"x\": [1, 2, 3, 4, 5, 6, 7, 8, 9, 10], \"y\": [831.492899, 1098.416506, 1328.846574, 1479.148566, 1647.483186, 1830.260692, 1945.06186, 2026.655627, 2069.030753, 2070.632467]}, {\"error_y\": {\"array\": [107.03501517771312, 175.170926466175, 299.97044520599025, 444.6531050970483, 583.7804821437372, 716.6806860894035, 794.3289562281716, 866.3426302297364, 937.1772292760293, 985.3801177158724], \"type\": \"data\"}, \"marker\": {\"color\": \"rgb(13, 255, 20)\"}, \"name\": \"Encoder Decoder\", \"type\": \"bar\", \"x\": [1, 2, 3, 4, 5, 6, 7, 8, 9, 10], \"y\": [907.9978981818184, 1102.2416659090914, 1247.2944999999997, 1267.8710977272729, 1400.768881818182, 1516.3700636363637, 1522.6882590909088, 1582.7538409090905, 1617.1854772727274, 1595.488159090909]}, {\"error_y\": {\"array\": [297.62602758924095, 233.11362895057212, 239.04078235519594, 249.8065845747431, 338.52210813035896, 432.8538594320159, 458.82670598640925, 517.5997171087921, 564.0009860576857, 545.1923806407244], \"type\": \"data\"}, \"marker\": {\"color\": \"rgb(255, 10, 10)\"}, \"name\": \"Bi Directional \", \"type\": \"bar\", \"x\": [1, 2, 3, 4, 5, 6, 7, 8, 9, 10], \"y\": [835.1955288888888, 1104.761437777778, 1321.1131333333333, 1488.1267, 1635.6466888888888, 1736.5995444444443, 1792.5926111111112, 1848.5611666666668, 1903.858977777778, 1938.3318666666664]}],\n",
       "                        {\"bargap\": 0.5, \"bargroupgap\": 0.05, \"barmode\": \"group\", \"legend\": {\"bgcolor\": \"rgba(255, 255, 255, 0)\", \"bordercolor\": \"rgba(255, 255, 255, 0)\", \"x\": 0, \"y\": 1.0}, \"template\": {\"data\": {\"bar\": [{\"error_x\": {\"color\": \"#2a3f5f\"}, \"error_y\": {\"color\": \"#2a3f5f\"}, \"marker\": {\"line\": {\"color\": \"#E5ECF6\", \"width\": 0.5}}, \"type\": \"bar\"}], \"barpolar\": [{\"marker\": {\"line\": {\"color\": \"#E5ECF6\", \"width\": 0.5}}, \"type\": \"barpolar\"}], \"carpet\": [{\"aaxis\": {\"endlinecolor\": \"#2a3f5f\", \"gridcolor\": \"white\", \"linecolor\": \"white\", \"minorgridcolor\": \"white\", \"startlinecolor\": \"#2a3f5f\"}, \"baxis\": {\"endlinecolor\": \"#2a3f5f\", \"gridcolor\": \"white\", \"linecolor\": \"white\", \"minorgridcolor\": \"white\", \"startlinecolor\": \"#2a3f5f\"}, \"type\": \"carpet\"}], \"choropleth\": [{\"colorbar\": {\"outlinewidth\": 0, \"ticks\": \"\"}, \"type\": \"choropleth\"}], \"contour\": [{\"colorbar\": {\"outlinewidth\": 0, \"ticks\": \"\"}, \"colorscale\": [[0.0, \"#0d0887\"], [0.1111111111111111, \"#46039f\"], [0.2222222222222222, \"#7201a8\"], [0.3333333333333333, \"#9c179e\"], [0.4444444444444444, \"#bd3786\"], [0.5555555555555556, \"#d8576b\"], [0.6666666666666666, \"#ed7953\"], [0.7777777777777778, \"#fb9f3a\"], [0.8888888888888888, \"#fdca26\"], [1.0, \"#f0f921\"]], \"type\": \"contour\"}], \"contourcarpet\": [{\"colorbar\": {\"outlinewidth\": 0, \"ticks\": \"\"}, \"type\": \"contourcarpet\"}], \"heatmap\": [{\"colorbar\": {\"outlinewidth\": 0, \"ticks\": \"\"}, \"colorscale\": [[0.0, \"#0d0887\"], [0.1111111111111111, \"#46039f\"], [0.2222222222222222, \"#7201a8\"], [0.3333333333333333, \"#9c179e\"], [0.4444444444444444, \"#bd3786\"], [0.5555555555555556, \"#d8576b\"], [0.6666666666666666, \"#ed7953\"], [0.7777777777777778, \"#fb9f3a\"], [0.8888888888888888, \"#fdca26\"], [1.0, \"#f0f921\"]], \"type\": \"heatmap\"}], \"heatmapgl\": [{\"colorbar\": {\"outlinewidth\": 0, \"ticks\": \"\"}, \"colorscale\": [[0.0, \"#0d0887\"], [0.1111111111111111, \"#46039f\"], [0.2222222222222222, \"#7201a8\"], [0.3333333333333333, \"#9c179e\"], [0.4444444444444444, \"#bd3786\"], [0.5555555555555556, \"#d8576b\"], [0.6666666666666666, \"#ed7953\"], [0.7777777777777778, \"#fb9f3a\"], [0.8888888888888888, \"#fdca26\"], [1.0, \"#f0f921\"]], \"type\": \"heatmapgl\"}], \"histogram\": [{\"marker\": {\"colorbar\": {\"outlinewidth\": 0, \"ticks\": \"\"}}, \"type\": \"histogram\"}], \"histogram2d\": [{\"colorbar\": {\"outlinewidth\": 0, \"ticks\": \"\"}, \"colorscale\": [[0.0, \"#0d0887\"], [0.1111111111111111, \"#46039f\"], [0.2222222222222222, \"#7201a8\"], [0.3333333333333333, \"#9c179e\"], [0.4444444444444444, \"#bd3786\"], [0.5555555555555556, \"#d8576b\"], [0.6666666666666666, \"#ed7953\"], [0.7777777777777778, \"#fb9f3a\"], [0.8888888888888888, \"#fdca26\"], [1.0, \"#f0f921\"]], \"type\": \"histogram2d\"}], \"histogram2dcontour\": [{\"colorbar\": {\"outlinewidth\": 0, \"ticks\": \"\"}, \"colorscale\": [[0.0, \"#0d0887\"], [0.1111111111111111, \"#46039f\"], [0.2222222222222222, \"#7201a8\"], [0.3333333333333333, \"#9c179e\"], [0.4444444444444444, \"#bd3786\"], [0.5555555555555556, \"#d8576b\"], [0.6666666666666666, \"#ed7953\"], [0.7777777777777778, \"#fb9f3a\"], [0.8888888888888888, \"#fdca26\"], [1.0, \"#f0f921\"]], \"type\": \"histogram2dcontour\"}], \"mesh3d\": [{\"colorbar\": {\"outlinewidth\": 0, \"ticks\": \"\"}, \"type\": \"mesh3d\"}], \"parcoords\": [{\"line\": {\"colorbar\": {\"outlinewidth\": 0, \"ticks\": \"\"}}, \"type\": \"parcoords\"}], \"pie\": [{\"automargin\": true, \"type\": \"pie\"}], \"scatter\": [{\"marker\": {\"colorbar\": {\"outlinewidth\": 0, \"ticks\": \"\"}}, \"type\": \"scatter\"}], \"scatter3d\": [{\"line\": {\"colorbar\": {\"outlinewidth\": 0, \"ticks\": \"\"}}, \"marker\": {\"colorbar\": {\"outlinewidth\": 0, \"ticks\": \"\"}}, \"type\": \"scatter3d\"}], \"scattercarpet\": [{\"marker\": {\"colorbar\": {\"outlinewidth\": 0, \"ticks\": \"\"}}, \"type\": \"scattercarpet\"}], \"scattergeo\": [{\"marker\": {\"colorbar\": {\"outlinewidth\": 0, \"ticks\": \"\"}}, \"type\": \"scattergeo\"}], \"scattergl\": [{\"marker\": {\"colorbar\": {\"outlinewidth\": 0, \"ticks\": \"\"}}, \"type\": \"scattergl\"}], \"scattermapbox\": [{\"marker\": {\"colorbar\": {\"outlinewidth\": 0, \"ticks\": \"\"}}, \"type\": \"scattermapbox\"}], \"scatterpolar\": [{\"marker\": {\"colorbar\": {\"outlinewidth\": 0, \"ticks\": \"\"}}, \"type\": \"scatterpolar\"}], \"scatterpolargl\": [{\"marker\": {\"colorbar\": {\"outlinewidth\": 0, \"ticks\": \"\"}}, \"type\": \"scatterpolargl\"}], \"scatterternary\": [{\"marker\": {\"colorbar\": {\"outlinewidth\": 0, \"ticks\": \"\"}}, \"type\": \"scatterternary\"}], \"surface\": [{\"colorbar\": {\"outlinewidth\": 0, \"ticks\": \"\"}, \"colorscale\": [[0.0, \"#0d0887\"], [0.1111111111111111, \"#46039f\"], [0.2222222222222222, \"#7201a8\"], [0.3333333333333333, \"#9c179e\"], [0.4444444444444444, \"#bd3786\"], [0.5555555555555556, \"#d8576b\"], [0.6666666666666666, \"#ed7953\"], [0.7777777777777778, \"#fb9f3a\"], [0.8888888888888888, \"#fdca26\"], [1.0, \"#f0f921\"]], \"type\": \"surface\"}], \"table\": [{\"cells\": {\"fill\": {\"color\": \"#EBF0F8\"}, \"line\": {\"color\": \"white\"}}, \"header\": {\"fill\": {\"color\": \"#C8D4E3\"}, \"line\": {\"color\": \"white\"}}, \"type\": \"table\"}]}, \"layout\": {\"annotationdefaults\": {\"arrowcolor\": \"#2a3f5f\", \"arrowhead\": 0, \"arrowwidth\": 1}, \"coloraxis\": {\"colorbar\": {\"outlinewidth\": 0, \"ticks\": \"\"}}, \"colorscale\": {\"diverging\": [[0, \"#8e0152\"], [0.1, \"#c51b7d\"], [0.2, \"#de77ae\"], [0.3, \"#f1b6da\"], [0.4, \"#fde0ef\"], [0.5, \"#f7f7f7\"], [0.6, \"#e6f5d0\"], [0.7, \"#b8e186\"], [0.8, \"#7fbc41\"], [0.9, \"#4d9221\"], [1, \"#276419\"]], \"sequential\": [[0.0, \"#0d0887\"], [0.1111111111111111, \"#46039f\"], [0.2222222222222222, \"#7201a8\"], [0.3333333333333333, \"#9c179e\"], [0.4444444444444444, \"#bd3786\"], [0.5555555555555556, \"#d8576b\"], [0.6666666666666666, \"#ed7953\"], [0.7777777777777778, \"#fb9f3a\"], [0.8888888888888888, \"#fdca26\"], [1.0, \"#f0f921\"]], \"sequentialminus\": [[0.0, \"#0d0887\"], [0.1111111111111111, \"#46039f\"], [0.2222222222222222, \"#7201a8\"], [0.3333333333333333, \"#9c179e\"], [0.4444444444444444, \"#bd3786\"], [0.5555555555555556, \"#d8576b\"], [0.6666666666666666, \"#ed7953\"], [0.7777777777777778, \"#fb9f3a\"], [0.8888888888888888, \"#fdca26\"], [1.0, \"#f0f921\"]]}, \"colorway\": [\"#636efa\", \"#EF553B\", \"#00cc96\", \"#ab63fa\", \"#FFA15A\", \"#19d3f3\", \"#FF6692\", \"#B6E880\", \"#FF97FF\", \"#FECB52\"], \"font\": {\"color\": \"#2a3f5f\"}, \"geo\": {\"bgcolor\": \"white\", \"lakecolor\": \"white\", \"landcolor\": \"#E5ECF6\", \"showlakes\": true, \"showland\": true, \"subunitcolor\": \"white\"}, \"hoverlabel\": {\"align\": \"left\"}, \"hovermode\": \"closest\", \"mapbox\": {\"style\": \"light\"}, \"paper_bgcolor\": \"white\", \"plot_bgcolor\": \"#E5ECF6\", \"polar\": {\"angularaxis\": {\"gridcolor\": \"white\", \"linecolor\": \"white\", \"ticks\": \"\"}, \"bgcolor\": \"#E5ECF6\", \"radialaxis\": {\"gridcolor\": \"white\", \"linecolor\": \"white\", \"ticks\": \"\"}}, \"scene\": {\"xaxis\": {\"backgroundcolor\": \"#E5ECF6\", \"gridcolor\": \"white\", \"gridwidth\": 2, \"linecolor\": \"white\", \"showbackground\": true, \"ticks\": \"\", \"zerolinecolor\": \"white\"}, \"yaxis\": {\"backgroundcolor\": \"#E5ECF6\", \"gridcolor\": \"white\", \"gridwidth\": 2, \"linecolor\": \"white\", \"showbackground\": true, \"ticks\": \"\", \"zerolinecolor\": \"white\"}, \"zaxis\": {\"backgroundcolor\": \"#E5ECF6\", \"gridcolor\": \"white\", \"gridwidth\": 2, \"linecolor\": \"white\", \"showbackground\": true, \"ticks\": \"\", \"zerolinecolor\": \"white\"}}, \"shapedefaults\": {\"line\": {\"color\": \"#2a3f5f\"}}, \"ternary\": {\"aaxis\": {\"gridcolor\": \"white\", \"linecolor\": \"white\", \"ticks\": \"\"}, \"baxis\": {\"gridcolor\": \"white\", \"linecolor\": \"white\", \"ticks\": \"\"}, \"bgcolor\": \"#E5ECF6\", \"caxis\": {\"gridcolor\": \"white\", \"linecolor\": \"white\", \"ticks\": \"\"}}, \"title\": {\"x\": 0.05}, \"xaxis\": {\"automargin\": true, \"gridcolor\": \"white\", \"linecolor\": \"white\", \"ticks\": \"\", \"title\": {\"standoff\": 15}, \"zerolinecolor\": \"white\", \"zerolinewidth\": 2}, \"yaxis\": {\"automargin\": true, \"gridcolor\": \"white\", \"linecolor\": \"white\", \"ticks\": \"\", \"title\": {\"standoff\": 15}, \"zerolinecolor\": \"white\", \"zerolinewidth\": 2}}}, \"title\": {\"text\": \"mean of RMSE for 30 iterations\"}, \"xaxis\": {\"tickfont\": {\"size\": 14}}, \"yaxis\": {\"tickfont\": {\"size\": 14}, \"title\": {\"font\": {\"size\": 16}, \"text\": \"RMSE\"}}},\n",
       "                        {\"responsive\": true}\n",
       "                    ).then(function(){\n",
       "                            \n",
       "var gd = document.getElementById('53df1a3a-7d19-4357-9301-e5e0f18bf0e8');\n",
       "var x = new MutationObserver(function (mutations, observer) {{\n",
       "        var display = window.getComputedStyle(gd).display;\n",
       "        if (!display || display === 'none') {{\n",
       "            console.log([gd, 'removed!']);\n",
       "            Plotly.purge(gd);\n",
       "            observer.disconnect();\n",
       "        }}\n",
       "}});\n",
       "\n",
       "// Listen for the removal of the full notebook cells\n",
       "var notebookContainer = gd.closest('#notebook-container');\n",
       "if (notebookContainer) {{\n",
       "    x.observe(notebookContainer, {childList: true});\n",
       "}}\n",
       "\n",
       "// Listen for the clearing of the current output cell\n",
       "var outputEl = gd.closest('.output');\n",
       "if (outputEl) {{\n",
       "    x.observe(outputEl, {childList: true});\n",
       "}}\n",
       "\n",
       "                        })\n",
       "                };\n",
       "                });\n",
       "            </script>\n",
       "        </div>"
      ]
     },
     "metadata": {},
     "output_type": "display_data"
    }
   ],
   "source": [
    "import plotly.graph_objects as go\n",
    "dLSTM=[831.492899\n",
    ",1098.416506\n",
    ",1328.846574\n",
    ",    1479.148566\n",
    ",    1647.483186\n",
    ",    1830.260692\n",
    ",    1945.061860\n",
    ",    2026.655627\n",
    ",    2069.030753\n",
    ",    2070.632467]\n",
    "\n",
    "LSTMsigma=[172.169254\n",
    ",  238.528065\n",
    ",    341.459996\n",
    ",    441.491785\n",
    ",    537.957985\n",
    ",    637.726564\n",
    ",    779.544731\n",
    ",    829.673226\n",
    ",    826.639030\n",
    ",    876.282741]\n",
    "dLSTM=np.array(dLSTM)\n",
    "\n",
    "u1=np.mean(dADAM,axis=0)\n",
    "u2=dLSTM\n",
    "print(u2)\n",
    "u3=np.mean(dBI,axis=0)\n",
    "print(u3)\n",
    "u4=np.mean(dEN,axis=0)\n",
    "sigma1=np.std(dADAM,axis=0)\n",
    "sigma2=np.array(LSTMsigma)\n",
    "sigma3=np.std(dEN,axis=0)\n",
    "sigma4=np.std(dBI,axis=0)\n",
    "fig = go.Figure()\n",
    "df=pd.DataFrame()\n",
    "df['ADAM']=u1\n",
    "\n",
    "df['LSTM']=u2\n",
    "df['EN']=u3\n",
    "df['BI']=u4\n",
    "df['steps']=[1,2,3,4,5,6,7,8,9,10]\n",
    "fig.add_trace(go.Bar(x=df['steps'],\n",
    "                y=df['ADAM'],\n",
    "                     error_y=dict(type='data', array=sigma1),\n",
    "                name='ADAM',\n",
    "                marker_color='rgb(55, 83, 109)'\n",
    "                ))\n",
    "fig.add_trace(go.Bar(x=df['steps'],\n",
    "                y=df['LSTM'],\n",
    "                error_y=dict(type='data', array=sigma2),\n",
    "                name='LSTM',\n",
    "                marker_color='rgb(200,125,150)'\n",
    "                ))\n",
    "fig.add_trace(go.Bar(x=df['steps'],\n",
    "                y=df['EN'],\n",
    "                error_y=dict(type='data', array=sigma3),\n",
    "                name='Encoder Decoder',\n",
    "                marker_color='rgb(13, 255, 20)'\n",
    "                ))\n",
    "fig.add_trace(go.Bar(x=df['steps'],\n",
    "                y=df['BI'],\n",
    "                error_y=dict(type='data', array=sigma4),\n",
    "                name='Bi Directional ',\n",
    "                marker_color='rgb(255, 10, 10)'\n",
    "                ))\n",
    "\n",
    "fig.update_layout(\n",
    "    title='mean of RMSE for 30 iterations' ,\n",
    "    xaxis_tickfont_size=14,\n",
    "    yaxis=dict(\n",
    "        title='RMSE',\n",
    "        titlefont_size=16,\n",
    "        tickfont_size=14,\n",
    "    ),\n",
    "    legend=dict(\n",
    "        x=0,\n",
    "        y=1.0,\n",
    "        bgcolor='rgba(255, 255, 255, 0)',\n",
    "        bordercolor='rgba(255, 255, 255, 0)'\n",
    "    ),\n",
    "    barmode='group',\n",
    "    bargap=0.5, # gap between bars of adjacent location coordinates.\n",
    "    bargroupgap=0.05# gap between bars of the same location coordinate.\n",
    "   \n",
    "    \n",
    ")\n",
    "fig.show()"
   ]
  },
  {
   "cell_type": "code",
   "execution_count": null,
   "metadata": {},
   "outputs": [],
   "source": []
  },
  {
   "cell_type": "code",
   "execution_count": null,
   "metadata": {},
   "outputs": [],
   "source": []
  },
  {
   "cell_type": "code",
   "execution_count": null,
   "metadata": {},
   "outputs": [],
   "source": []
  },
  {
   "cell_type": "code",
   "execution_count": null,
   "metadata": {},
   "outputs": [],
   "source": []
  },
  {
   "cell_type": "code",
   "execution_count": null,
   "metadata": {},
   "outputs": [],
   "source": []
  },
  {
   "cell_type": "code",
   "execution_count": null,
   "metadata": {},
   "outputs": [],
   "source": []
  }
 ],
 "metadata": {
  "kernelspec": {
   "display_name": "Python 3",
   "language": "python",
   "name": "python3"
  },
  "language_info": {
   "codemirror_mode": {
    "name": "ipython",
    "version": 3
   },
   "file_extension": ".py",
   "mimetype": "text/x-python",
   "name": "python",
   "nbconvert_exporter": "python",
   "pygments_lexer": "ipython3",
   "version": "3.6.8"
  }
 },
 "nbformat": 4,
 "nbformat_minor": 2
}
